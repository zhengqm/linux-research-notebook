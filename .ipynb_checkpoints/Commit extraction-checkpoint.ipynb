{
 "cells": [
  {
   "cell_type": "code",
   "execution_count": null,
   "metadata": {
    "collapsed": true
   },
   "outputs": [],
   "source": [
    "from git import Repo\n",
    "import pandas as pd"
   ]
  },
  {
   "cell_type": "code",
   "execution_count": null,
   "metadata": {
    "collapsed": true
   },
   "outputs": [],
   "source": [
    "def changed_files(c):\n",
    "    if len(c.parents) != 1:\n",
    "        return \"\"\n",
    "    return ','.join([d.a_path for d in c.diff(c.parents[0])])"
   ]
  },
  {
   "cell_type": "code",
   "execution_count": null,
   "metadata": {
    "collapsed": false
   },
   "outputs": [],
   "source": [
    "repo_dir = \"D:\\linux\"\n",
    "first_run = True\n",
    "\n",
    "if first_run:\n",
    "    repo = Repo(repo_dir)\n",
    "    commits = list(repo.iter_commits(\"master\")){:1000}\n",
    "    def isValid(c):\n",
    "        try:\n",
    "            c.authored_datetime, c.committed_datetime\n",
    "            return True\n",
    "        except:\n",
    "            return False\n",
    "    commit_list = map(lambda c: (c.hexsha, c.authored_datetime, c.author.name, c.author.email, c.committed_datetime, c.committer.name, c.committer.email, c.summary, c.message, changed_files(c)), filter(lambda c: isValid(c), commits))\n",
    "    commit_df = pd.DataFrame(commit_list, columns='hexsha,authored_datetime,author_name,author_email,committed_datetime,committer_name,committer_email,summary,message,files'.split(','))\n",
    "    commit_df['authored_datetime'] = pd.to_datetime(commit_df['authored_datetime'], utc=True)\n",
    "    commit_df['committed_datetime'] = pd.to_datetime(commit_df['committed_datetime'], utc=True)\n",
    "    commit_df.to_pickle(\"commits_t.pkl\")\n",
    "else:\n",
    "    commit_df = pd.read_pickle(\"commits_t.pkl\")"
   ]
  },
  {
   "cell_type": "code",
   "execution_count": null,
   "metadata": {
    "collapsed": true
   },
   "outputs": [],
   "source": [
    "print \"hello\""
   ]
  },
  {
   "cell_type": "code",
   "execution_count": null,
   "metadata": {
    "collapsed": true
   },
   "outputs": [],
   "source": []
  }
 ],
 "metadata": {
  "anaconda-cloud": {},
  "kernelspec": {
   "display_name": "Python [Root]",
   "language": "python",
   "name": "Python [Root]"
  },
  "language_info": {
   "codemirror_mode": {
    "name": "ipython",
    "version": 2
   },
   "file_extension": ".py",
   "mimetype": "text/x-python",
   "name": "python",
   "nbconvert_exporter": "python",
   "pygments_lexer": "ipython2",
   "version": "2.7.11"
  }
 },
 "nbformat": 4,
 "nbformat_minor": 0
}
