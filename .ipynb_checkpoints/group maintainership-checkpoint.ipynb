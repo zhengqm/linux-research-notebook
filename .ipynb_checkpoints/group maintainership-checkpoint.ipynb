{
 "cells": [
  {
   "cell_type": "code",
   "execution_count": 1,
   "metadata": {
    "collapsed": true
   },
   "outputs": [],
   "source": [
    "import pandas as pd\n",
    "import matplotlib.pyplot as plt\n",
    "%matplotlib inline"
   ]
  },
  {
   "cell_type": "code",
   "execution_count": 2,
   "metadata": {
    "collapsed": true
   },
   "outputs": [],
   "source": [
    "commits = pd.read_pickle(\"commits.pkl\")"
   ]
  },
  {
   "cell_type": "code",
   "execution_count": 3,
   "metadata": {
    "collapsed": true
   },
   "outputs": [],
   "source": [
    "def isDRM(f):\n",
    "    fs = f.split(',')\n",
    "    for f in fs:\n",
    "        if 'Documentation/gpu/' in f:\n",
    "            return True\n",
    "        if 'drivers/gpu/vga/' in f:\n",
    "            return True\n",
    "        parts = f.split('/')\n",
    "        if 'drivers/gpu/drm' in f and len(parts) == 4:\n",
    "            return True\n",
    "        if 'include/drm/drm' in f:\n",
    "            return True\n",
    "        if 'include/uapi/drm/drm' in f:\n",
    "            return True\n",
    "        if 'include/linux/vga' in f:\n",
    "            return True\n",
    "    return False\n",
    "\n",
    "def isi915(f):\n",
    "    return \"drivers/gpu/drm/i915/\" in f"
   ]
  },
  {
   "cell_type": "code",
   "execution_count": 4,
   "metadata": {
    "collapsed": true
   },
   "outputs": [],
   "source": [
    "commits['isDRM'] = commits.files.map(isDRM)"
   ]
  },
  {
   "cell_type": "code",
   "execution_count": 5,
   "metadata": {
    "collapsed": true
   },
   "outputs": [],
   "source": [
    "commits['isi915'] = commits.files.map(isi915)"
   ]
  },
  {
   "cell_type": "code",
   "execution_count": 6,
   "metadata": {
    "collapsed": false
   },
   "outputs": [],
   "source": [
    "selected = commits[commits.isi915]"
   ]
  },
  {
   "cell_type": "code",
   "execution_count": null,
   "metadata": {
    "collapsed": true
   },
   "outputs": [],
   "source": []
  },
  {
   "cell_type": "code",
   "execution_count": 7,
   "metadata": {
    "collapsed": false
   },
   "outputs": [
    {
     "name": "stdout",
     "output_type": "stream",
     "text": [
      "2013 1\n",
      "Daniel Vetter    0.967213\n",
      "Dave Airlie      0.016393\n",
      "Name: committer_name, dtype: float64\n",
      "2013 2\n",
      "Daniel Vetter     0.946429\n",
      "Linus Torvalds    0.017857\n",
      "Name: committer_name, dtype: float64\n",
      "2013 3\n",
      "Daniel Vetter    0.976744\n",
      "Jiri Kosina      0.015504\n",
      "Name: committer_name, dtype: float64\n",
      "2013 4\n",
      "Daniel Vetter    0.994475\n",
      "Dave Airlie      0.005525\n",
      "Name: committer_name, dtype: float64\n",
      "2013 5\n",
      "Daniel Vetter    0.986014\n",
      "Dave Airlie      0.013986\n",
      "Name: committer_name, dtype: float64\n",
      "2013 6\n",
      "Daniel Vetter    0.973214\n",
      "Dave Airlie      0.026786\n",
      "Name: committer_name, dtype: float64\n",
      "2013 7\n",
      "Daniel Vetter    0.960396\n",
      "Dave Airlie      0.019802\n",
      "Name: committer_name, dtype: float64\n",
      "2013 8\n",
      "Daniel Vetter    0.938889\n",
      "Dave Airlie      0.061111\n",
      "Name: committer_name, dtype: float64\n",
      "2013 9\n",
      "Daniel Vetter    0.97546\n",
      "Al Viro          0.01227\n",
      "Name: committer_name, dtype: float64\n",
      "2013 10\n",
      "Daniel Vetter    0.950570\n",
      "Dave Airlie      0.045627\n",
      "Name: committer_name, dtype: float64\n",
      "2013 11\n",
      "Daniel Vetter    0.981221\n",
      "Dave Airlie      0.014085\n",
      "Name: committer_name, dtype: float64\n",
      "2013 12\n",
      "Daniel Vetter    0.962264\n",
      "Dave Airlie      0.025157\n",
      "Name: committer_name, dtype: float64\n",
      "2014 1\n",
      "Daniel Vetter    0.940476\n",
      "Ville Syrjälä    0.041667\n",
      "Name: committer_name, dtype: float64\n",
      "2014 2\n",
      "Daniel Vetter    0.978261\n",
      "Takashi Iwai     0.010870\n",
      "Name: committer_name, dtype: float64\n",
      "2014 3\n",
      "Daniel Vetter    0.920354\n",
      "Jani Nikula      0.053097\n",
      "Name: committer_name, dtype: float64\n",
      "2014 4\n",
      "Daniel Vetter    0.878205\n",
      "Jani Nikula      0.089744\n",
      "Name: committer_name, dtype: float64\n",
      "2014 5\n",
      "Daniel Vetter    0.954373\n",
      "Jani Nikula      0.045627\n",
      "Name: committer_name, dtype: float64\n",
      "2014 6\n",
      "Daniel Vetter    0.834437\n",
      "Jani Nikula      0.105960\n",
      "Name: committer_name, dtype: float64\n",
      "2014 7\n",
      "Daniel Vetter    0.858639\n",
      "Dave Airlie      0.073298\n",
      "Name: committer_name, dtype: float64\n",
      "2014 8\n",
      "Daniel Vetter    0.891892\n",
      "Jani Nikula      0.070270\n",
      "Name: committer_name, dtype: float64\n",
      "2014 9\n",
      "Daniel Vetter    0.933333\n",
      "Jani Nikula      0.050000\n",
      "Name: committer_name, dtype: float64\n",
      "2014 10\n",
      "Daniel Vetter    0.914894\n",
      "Jani Nikula      0.085106\n",
      "Name: committer_name, dtype: float64\n",
      "2014 11\n",
      "Daniel Vetter    0.957854\n",
      "Jani Nikula      0.030651\n",
      "Name: committer_name, dtype: float64\n",
      "2014 12\n",
      "Daniel Vetter    0.857143\n",
      "Jani Nikula      0.120000\n",
      "Name: committer_name, dtype: float64\n",
      "2015 1\n",
      "Daniel Vetter    0.932886\n",
      "Jani Nikula      0.067114\n",
      "Name: committer_name, dtype: float64\n",
      "2015 2\n",
      "Daniel Vetter    0.890909\n",
      "Jani Nikula      0.103030\n",
      "Name: committer_name, dtype: float64\n",
      "2015 3\n",
      "Daniel Vetter    0.924171\n",
      "Jani Nikula      0.052133\n",
      "Name: committer_name, dtype: float64\n",
      "2015 4\n",
      "Daniel Vetter    0.875000\n",
      "Jani Nikula      0.100962\n",
      "Name: committer_name, dtype: float64\n",
      "2015 5\n",
      "Daniel Vetter    0.951613\n",
      "Jani Nikula      0.028226\n",
      "Name: committer_name, dtype: float64\n",
      "2015 6\n",
      "Daniel Vetter    0.706564\n",
      "Jani Nikula      0.285714\n",
      "Name: committer_name, dtype: float64\n",
      "2015 7\n",
      "Daniel Vetter    0.982857\n",
      "Takashi Iwai     0.005714\n",
      "Name: committer_name, dtype: float64\n",
      "2015 8\n",
      "Daniel Vetter    0.856164\n",
      "Jani Nikula      0.143836\n",
      "Name: committer_name, dtype: float64\n",
      "2015 9\n",
      "Daniel Vetter    0.865613\n",
      "Jani Nikula      0.094862\n",
      "Name: committer_name, dtype: float64\n",
      "2015 10\n",
      "Daniel Vetter    0.734694\n",
      "Jani Nikula      0.142857\n",
      "Name: committer_name, dtype: float64\n",
      "2015 11\n",
      "Ville Syrjälä    0.299517\n",
      "Jani Nikula      0.227053\n",
      "Name: committer_name, dtype: float64\n",
      "2015 12\n",
      "Jani Nikula      0.302326\n",
      "Daniel Vetter    0.279070\n",
      "Name: committer_name, dtype: float64\n",
      "2016 1\n",
      "Daniel Vetter    0.211538\n",
      "Jani Nikula      0.197115\n",
      "Name: committer_name, dtype: float64\n",
      "2016 2\n",
      "Jani Nikula      0.279221\n",
      "Daniel Vetter    0.220779\n",
      "Name: committer_name, dtype: float64\n",
      "2016 3\n",
      "Jani Nikula    0.163366\n",
      "Imre Deak      0.153465\n",
      "Name: committer_name, dtype: float64\n",
      "2016 4\n",
      "Chris Wilson     0.291803\n",
      "Ville Syrjälä    0.219672\n",
      "Name: committer_name, dtype: float64\n",
      "2016 5\n",
      "Ville Syrjälä    0.245192\n",
      "Chris Wilson     0.163462\n",
      "Name: committer_name, dtype: float64\n",
      "2016 6\n",
      "Chris Wilson      0.398496\n",
      "Tvrtko Ursulin    0.161654\n",
      "Name: committer_name, dtype: float64\n",
      "2016 7\n",
      "Chris Wilson     0.530516\n",
      "Daniel Vetter    0.150235\n",
      "Name: committer_name, dtype: float64\n",
      "2016 8\n",
      "Chris Wilson     0.616848\n",
      "Ville Syrjälä    0.108696\n",
      "Name: committer_name, dtype: float64\n",
      "2016 9\n",
      "Rodrigo Vivi    0.261745\n",
      "Jani Nikula     0.261745\n",
      "Name: committer_name, dtype: float64\n",
      "2016 10\n",
      "Chris Wilson    0.256560\n",
      "Jani Nikula     0.183673\n",
      "Name: committer_name, dtype: float64\n",
      "2016 11\n",
      "Chris Wilson     0.264407\n",
      "Ville Syrjälä    0.162712\n",
      "Name: committer_name, dtype: float64\n",
      "2016 12\n",
      "Ville Syrjälä    0.205240\n",
      "Jani Nikula      0.200873\n",
      "Name: committer_name, dtype: float64\n",
      "2017 1\n",
      "Chris Wilson    0.492188\n",
      "Jani Nikula     0.132812\n",
      "Name: committer_name, dtype: float64\n",
      "2017 2\n",
      "Chris Wilson    0.514512\n",
      "Jani Nikula     0.118734\n",
      "Name: committer_name, dtype: float64\n",
      "2017 3\n",
      "Chris Wilson    0.329975\n",
      "Jani Nikula     0.161209\n",
      "Name: committer_name, dtype: float64\n",
      "2017 4\n",
      "Chris Wilson    0.411765\n",
      "Jani Nikula     0.235294\n",
      "Name: committer_name, dtype: float64\n",
      "2017 5\n",
      "Chris Wilson     0.312821\n",
      "Ville Syrjälä    0.200000\n",
      "Name: committer_name, dtype: float64\n",
      "2017 6\n",
      "Chris Wilson    0.252137\n",
      "Rodrigo Vivi    0.222222\n",
      "Name: committer_name, dtype: float64\n"
     ]
    }
   ],
   "source": [
    "result = {}\n",
    "for year in range(2013,2018):\n",
    "    for month in range(1,13):\n",
    "        subset = selected[selected.committed_datetime.map(lambda t: t.year * 1000 + t.month) == (year * 1000 + month)]\n",
    "        if year == 2017 and month > 6:\n",
    "            break\n",
    "        print year, month\n",
    "        print subset.committer_name.value_counts(normalize=True)[:2]\n",
    "        result[(year,month)] = subset.committer_name.value_counts(normalize=True)[:2].sum()"
   ]
  },
  {
   "cell_type": "code",
   "execution_count": 8,
   "metadata": {
    "collapsed": false
   },
   "outputs": [
    {
     "data": {
      "text/plain": [
       "<matplotlib.axes._subplots.AxesSubplot at 0x2bc92f60>"
      ]
     },
     "execution_count": 8,
     "metadata": {},
     "output_type": "execute_result"
    },
    {
     "data": {
      "image/png": "[encoded data removed]",
      "text/plain": [
       "<matplotlib.figure.Figure at 0x2bc10c50>"
      ]
     },
     "metadata": {},
     "output_type": "display_data"
    }
   ],
   "source": [
    "plt.figure(facecolor=\"white\")\n",
    "s = pd.Series(result)\n",
    "s.plot('bar', figsize=(16,9), color='blue')"
   ]
  },
  {
   "cell_type": "code",
   "execution_count": 9,
   "metadata": {
    "collapsed": false
   },
   "outputs": [
    {
     "data": {
      "text/plain": [
       "<matplotlib.axes._subplots.AxesSubplot at 0x2bc482e8>"
      ]
     },
     "execution_count": 9,
     "metadata": {},
     "output_type": "execute_result"
    },
    {
     "data": {
      "image/png": "[encoded data removed]",
      "text/plain": [
       "<matplotlib.figure.Figure at 0x9db3cf8>"
      ]
     },
     "metadata": {},
     "output_type": "display_data"
    }
   ],
   "source": [
    "\n",
    "result_a = {}\n",
    "for year in range(2013,2018):\n",
    "    for month in range(1,13):\n",
    "        subset = selected[selected.committed_datetime.map(lambda t: t.year * 1000 + t.month) == (year * 1000 + month)]\n",
    "        if year == 2017 and month > 6:\n",
    "            break\n",
    "        result_a[(year,month)] = subset.committer_name.value_counts(normalize=False)[:1].sum()\n",
    "plt.figure(facecolor=\"white\")\n",
    "s = pd.Series(result_a)\n",
    "s.plot('bar', figsize=(16,9), color='blue')"
   ]
  },
  {
   "cell_type": "code",
   "execution_count": 10,
   "metadata": {
    "collapsed": false
   },
   "outputs": [
    {
     "name": "stdout",
     "output_type": "stream",
     "text": [
      "count     32.000000\n",
      "mean     164.031250\n",
      "std       48.850981\n",
      "min       53.000000\n",
      "25%      134.250000\n",
      "50%      161.500000\n",
      "75%      194.250000\n",
      "max      251.000000\n",
      "dtype: float64\n",
      "count     18.000000\n",
      "mean      88.111111\n",
      "std       54.310533\n",
      "min       33.000000\n",
      "25%       48.000000\n",
      "50%       69.500000\n",
      "75%      111.250000\n",
      "max      227.000000\n",
      "dtype: float64\n"
     ]
    }
   ],
   "source": [
    "print pd.Series([v for k,v in result_a.items() if k < (2015,9)]).describe()\n",
    "print pd.Series([v for k,v in result_a.items() if k > (2015,12)]).describe()"
   ]
  },
  {
   "cell_type": "code",
   "execution_count": null,
   "metadata": {
    "collapsed": true
   },
   "outputs": [],
   "source": []
  },
  {
   "cell_type": "code",
   "execution_count": 11,
   "metadata": {
    "collapsed": false
   },
   "outputs": [],
   "source": [
    "\n",
    "result_a = {}\n",
    "for year in range(2013,2018):\n",
    "    for month in range(1,13):\n",
    "        subset = selected[selected.committed_datetime.map(lambda t: t.year * 1000 + t.month) == (year * 1000 + month)]\n",
    "        if year == 2017 and month > 6:\n",
    "            break\n",
    "        result_a[(year,month)] = subset.committer_name.value_counts(normalize=False)[:2].sum()"
   ]
  },
  {
   "cell_type": "code",
   "execution_count": 12,
   "metadata": {
    "collapsed": false
   },
   "outputs": [
    {
     "data": {
      "text/plain": [
       "<matplotlib.axes._subplots.AxesSubplot at 0x9db3c50>"
      ]
     },
     "execution_count": 12,
     "metadata": {},
     "output_type": "execute_result"
    },
    {
     "data": {
      "image/png": "[encoded data removed]",
      "text/plain": [
       "<matplotlib.figure.Figure at 0x2bc92f98>"
      ]
     },
     "metadata": {},
     "output_type": "display_data"
    }
   ],
   "source": [
    "plt.figure(facecolor=\"white\")\n",
    "s = pd.Series(result_a)\n",
    "s.plot('bar', figsize=(16,9), color='blue')"
   ]
  },
  {
   "cell_type": "code",
   "execution_count": 13,
   "metadata": {
    "collapsed": false
   },
   "outputs": [
    {
     "name": "stdout",
     "output_type": "stream",
     "text": [
      "count    32.000000\n",
      "mean      0.984064\n",
      "std       0.016758\n",
      "min       0.931937\n",
      "25%       0.976933\n",
      "50%       0.988118\n",
      "75%       0.997148\n",
      "max       1.000000\n",
      "dtype: float64\n",
      "count    18.000000\n",
      "mean      0.516260\n",
      "std       0.110327\n",
      "min       0.316832\n",
      "25%       0.430397\n",
      "50%       0.505738\n",
      "75%       0.608788\n",
      "max       0.725543\n",
      "dtype: float64\n"
     ]
    }
   ],
   "source": [
    "print pd.Series([v for k,v in result.items() if k < (2015,9)]).describe()\n",
    "print pd.Series([v for k,v in result.items() if k > (2015,12)]).describe()"
   ]
  },
  {
   "cell_type": "code",
   "execution_count": 14,
   "metadata": {
    "collapsed": false
   },
   "outputs": [
    {
     "name": "stdout",
     "output_type": "stream",
     "text": [
      "count     32.000000\n",
      "mean     174.875000\n",
      "std       52.500538\n",
      "min       54.000000\n",
      "25%      145.250000\n",
      "50%      172.000000\n",
      "75%      207.500000\n",
      "max      263.000000\n",
      "dtype: float64\n",
      "count     18.000000\n",
      "mean     131.666667\n",
      "std       57.382104\n",
      "min       64.000000\n",
      "25%       85.750000\n",
      "50%      118.500000\n",
      "75%      154.750000\n",
      "max      267.000000\n",
      "dtype: float64\n"
     ]
    }
   ],
   "source": [
    "print pd.Series([v for k,v in result_a.items() if k < (2015,9)]).describe()\n",
    "print pd.Series([v for k,v in result_a.items() if k > (2015,12)]).describe()"
   ]
  },
  {
   "cell_type": "code",
   "execution_count": 15,
   "metadata": {
    "collapsed": true
   },
   "outputs": [],
   "source": [
    "# exclude 2015.9 ~ 2015.12"
   ]
  },
  {
   "cell_type": "code",
   "execution_count": 29,
   "metadata": {
    "collapsed": false
   },
   "outputs": [
    {
     "data": {
      "text/plain": [
       "<matplotlib.axes._subplots.AxesSubplot at 0x126187b8>"
      ]
     },
     "execution_count": 29,
     "metadata": {},
     "output_type": "execute_result"
    },
    {
     "data": {
      "image/png": "[encoded data removed]",
      "text/plain": [
       "<matplotlib.figure.Figure at 0x12f050b8>"
      ]
     },
     "metadata": {},
     "output_type": "display_data"
    }
   ],
   "source": [
    "selected[selected.committed_datetime.map(lambda t: t.year * 100 + t.month).map(lambda d: d >= 201300 and d < 201700)].committed_datetime.map(lambda t: t.year*100+t.month).value_counts().sort_index().plot('bar',figsize=(32,18), color='blue')"
   ]
  },
  {
   "cell_type": "code",
   "execution_count": 23,
   "metadata": {
    "collapsed": true
   },
   "outputs": [],
   "source": [
    "s = selected[selected.committed_datetime.map(lambda t: t.year * 100 + t.month).map(lambda d: d >= 201211 and d < 201707)].committed_datetime.map(lambda t: t.year*100+t.month).value_counts().sort_index()"
   ]
  },
  {
   "cell_type": "code",
   "execution_count": 28,
   "metadata": {
    "collapsed": false
   },
   "outputs": [
    {
     "name": "stderr",
     "output_type": "stream",
     "text": [
      "D:\\Dev\\Anaconda2\\lib\\site-packages\\ipykernel\\__main__.py:1: FutureWarning: pd.rolling_mean is deprecated for Series and will be removed in a future version, replace with \n",
      "\tSeries.rolling(window=3,center=False).mean()\n",
      "  if __name__ == '__main__':\n"
     ]
    },
    {
     "data": {
      "text/plain": [
       "<matplotlib.axes._subplots.AxesSubplot at 0xdea2908>"
      ]
     },
     "execution_count": 28,
     "metadata": {},
     "output_type": "execute_result"
    },
    {
     "data": {
      "image/png": "[encoded data removed]",
      "text/plain": [
       "<matplotlib.figure.Figure at 0xdcf1978>"
      ]
     },
     "metadata": {},
     "output_type": "display_data"
    }
   ],
   "source": [
    "plt.fi\n",
    "s = pd.rolling_mean(s, 3)\n",
    "s = s[(s.index > 201300) & (s.index < 201700)]\n",
    "s.plot('bar',figsize=(32,18), color='blue')"
   ]
  },
  {
   "cell_type": "code",
   "execution_count": null,
   "metadata": {
    "collapsed": true
   },
   "outputs": [],
   "source": []
  },
  {
   "cell_type": "code",
   "execution_count": null,
   "metadata": {
    "collapsed": true
   },
   "outputs": [],
   "source": []
  },
  {
   "cell_type": "code",
   "execution_count": 102,
   "metadata": {
    "collapsed": false
   },
   "outputs": [],
   "source": [
    "## overwork"
   ]
  },
  {
   "cell_type": "code",
   "execution_count": 227,
   "metadata": {
    "collapsed": true
   },
   "outputs": [],
   "source": [
    "result = {}\n",
    "for year in range(2013,2018):\n",
    "    for month in range(1,13):\n",
    "        subset = selected[selected.committed_datetime.map(lambda t: t.year * 1000 + t.month) == (year * 1000 + month)]\n",
    "        if year == 2017 and month > 6:\n",
    "            break\n",
    "        committers = subset.committer_name.value_counts(normalize=True)\n",
    "        acc = 0.0\n",
    "        for committer in committers.index:\n",
    "            df = subset[subset.committer_name == committer]\n",
    "            s = df.committed_datetime.map(lambda t: t.hour).value_counts(normalize=True)\n",
    "            if len(s) > 8:\n",
    "                acc += s[8:].sum() * committers[committer]\n",
    "        result[(year,month)] = acc"
   ]
  },
  {
   "cell_type": "code",
   "execution_count": 232,
   "metadata": {
    "collapsed": false
   },
   "outputs": [
    {
     "data": {
      "text/plain": [
       "<matplotlib.axes._subplots.AxesSubplot at 0x14551b38>"
      ]
     },
     "execution_count": 232,
     "metadata": {},
     "output_type": "execute_result"
    },
    {
     "data": {
      "image/png": "[encoded data removed]",
      "text/plain": [
       "<matplotlib.figure.Figure at 0x1bc6bcc0>"
      ]
     },
     "metadata": {},
     "output_type": "display_data"
    }
   ],
   "source": [
    "plt.figure(facecolor='white')\n",
    "pd.Series(result).plot('bar', color='blue', figsize=(16,9))"
   ]
  },
  {
   "cell_type": "code",
   "execution_count": 230,
   "metadata": {
    "collapsed": false
   },
   "outputs": [
    {
     "name": "stdout",
     "output_type": "stream",
     "text": [
      "count    32.000000\n",
      "mean      0.084480\n",
      "std       0.060353\n",
      "min       0.000000\n",
      "25%       0.041084\n",
      "50%       0.065973\n",
      "75%       0.125560\n",
      "max       0.232558\n",
      "dtype: float64\n",
      "count    18.000000\n",
      "mean      0.034327\n",
      "std       0.033530\n",
      "min       0.000000\n",
      "25%       0.009941\n",
      "50%       0.022086\n",
      "75%       0.053727\n",
      "max       0.103275\n",
      "dtype: float64\n"
     ]
    }
   ],
   "source": [
    "print pd.Series([v for k,v in result.items() if k < (2015,9)]).describe()\n",
    "print pd.Series([v for k,v in result.items() if k > (2015,12)]).describe()"
   ]
  },
  {
   "cell_type": "code",
   "execution_count": 123,
   "metadata": {
    "collapsed": false
   },
   "outputs": [],
   "source": [
    "## touched files"
   ]
  },
  {
   "cell_type": "code",
   "execution_count": 174,
   "metadata": {
    "collapsed": true
   },
   "outputs": [],
   "source": [
    "def count_distinct_files(files_list):\n",
    "    file_set = set()\n",
    "    for files in files_list:\n",
    "        if len(files) == 0:\n",
    "            continue\n",
    "        files = files.split(\",\")\n",
    "        if len(files) > 230:\n",
    "            continue\n",
    "        for f in files:\n",
    "            file_set.add(f)\n",
    "    return len(file_set)"
   ]
  },
  {
   "cell_type": "code",
   "execution_count": 175,
   "metadata": {
    "collapsed": false
   },
   "outputs": [],
   "source": [
    "result = {}\n",
    "for year in range(2013,2018):\n",
    "    for month in range(1,13):\n",
    "        subset = selected[selected.committed_datetime.map(lambda t: t.year * 1000 + t.month) == (year * 1000 + month)]\n",
    "        if year == 2017 and month > 6:\n",
    "            break\n",
    "        top2 = subset.committer_name.value_counts()[:2]\n",
    "        arr = []\n",
    "        for committer in top2.index:\n",
    "            arr.append(count_distinct_files(subset[subset.committer_name == committer]['files']))\n",
    "        result[(year,month)] = arr"
   ]
  },
  {
   "cell_type": "code",
   "execution_count": 176,
   "metadata": {
    "collapsed": false
   },
   "outputs": [
    {
     "data": {
      "text/plain": [
       "<matplotlib.axes._subplots.AxesSubplot at 0x2568e908>"
      ]
     },
     "execution_count": 176,
     "metadata": {},
     "output_type": "execute_result"
    },
    {
     "data": {
      "image/png": "[encoded data removed]",
      "text/plain": [
       "<matplotlib.figure.Figure at 0x1c1efe10>"
      ]
     },
     "metadata": {},
     "output_type": "display_data"
    }
   ],
   "source": [
    "plt.figure(facecolor='white')\n",
    "pd.DataFrame(result).T[0].plot('bar', color='blue', figsize=(16,9))"
   ]
  },
  {
   "cell_type": "code",
   "execution_count": 177,
   "metadata": {
    "collapsed": false
   },
   "outputs": [
    {
     "name": "stdout",
     "output_type": "stream",
     "text": [
      "count    32.000000\n",
      "mean     47.218750\n",
      "std      13.248821\n",
      "min      30.000000\n",
      "25%      38.000000\n",
      "50%      46.500000\n",
      "75%      53.000000\n",
      "max      86.000000\n",
      "dtype: float64\n",
      "count     18.000000\n",
      "mean      52.000000\n",
      "std       25.005882\n",
      "min       24.000000\n",
      "25%       33.500000\n",
      "50%       51.500000\n",
      "75%       59.250000\n",
      "max      120.000000\n",
      "dtype: float64\n"
     ]
    }
   ],
   "source": [
    "print pd.Series([v[0] for k,v in result.items() if k < (2015,9)]).describe()\n",
    "print pd.Series([v[0] for k,v in result.items() if k > (2015,12)]).describe()"
   ]
  },
  {
   "cell_type": "code",
   "execution_count": 154,
   "metadata": {
    "collapsed": true
   },
   "outputs": [],
   "source": [
    "subset = selected[selected.committed_datetime.map(lambda t: t.year * 1000 + t.month) == (2016 * 1000 + 12)]"
   ]
  },
  {
   "cell_type": "code",
   "execution_count": 155,
   "metadata": {
    "collapsed": true
   },
   "outputs": [],
   "source": [
    "top2 = subset.committer_name.value_counts()[:2]"
   ]
  },
  {
   "cell_type": "code",
   "execution_count": 165,
   "metadata": {
    "collapsed": false
   },
   "outputs": [],
   "source": [
    "committer = top2.index[0]"
   ]
  },
  {
   "cell_type": "code",
   "execution_count": 161,
   "metadata": {
    "collapsed": false,
    "scrolled": true
   },
   "outputs": [
    {
     "data": {
      "text/plain": [
       "59794     1\n",
       "59811     3\n",
       "59812     1\n",
       "59813     1\n",
       "59814     1\n",
       "59815     1\n",
       "59816     1\n",
       "59817     1\n",
       "59819     1\n",
       "59821     2\n",
       "59823     1\n",
       "59853     1\n",
       "59856     1\n",
       "60110     2\n",
       "60523     6\n",
       "60524    54\n",
       "60525    44\n",
       "60526    36\n",
       "60527     1\n",
       "60529     2\n",
       "60532    15\n",
       "60533     1\n",
       "60534    13\n",
       "60536     1\n",
       "60539     1\n",
       "60548    24\n",
       "60799     1\n",
       "62135     1\n",
       "62136     2\n",
       "62167     3\n",
       "62707     1\n",
       "62750     1\n",
       "62751     1\n",
       "62752     1\n",
       "62753     1\n",
       "62754     3\n",
       "62755     2\n",
       "62756     1\n",
       "62757     1\n",
       "62758     2\n",
       "62759     1\n",
       "62760     1\n",
       "62761     1\n",
       "62762     1\n",
       "62763     1\n",
       "62764     3\n",
       "62765     1\n",
       "Name: files, dtype: int64"
      ]
     },
     "execution_count": 161,
     "metadata": {},
     "output_type": "execute_result"
    }
   ],
   "source": [
    "subset[subset.committer_name == committer]['files'].map(lambda f: len(f.split(',')))"
   ]
  },
  {
   "cell_type": "code",
   "execution_count": null,
   "metadata": {
    "collapsed": true
   },
   "outputs": [],
   "source": []
  },
  {
   "cell_type": "code",
   "execution_count": null,
   "metadata": {
    "collapsed": true
   },
   "outputs": [],
   "source": []
  },
  {
   "cell_type": "code",
   "execution_count": null,
   "metadata": {
    "collapsed": true
   },
   "outputs": [],
   "source": []
  },
  {
   "cell_type": "code",
   "execution_count": 136,
   "metadata": {
    "collapsed": true
   },
   "outputs": [],
   "source": [
    "## authors"
   ]
  },
  {
   "cell_type": "code",
   "execution_count": 137,
   "metadata": {
    "collapsed": true
   },
   "outputs": [],
   "source": [
    "result = {}\n",
    "for year in range(2013,2018):\n",
    "    for month in range(1,13):\n",
    "        subset = selected[selected.committed_datetime.map(lambda t: t.year * 1000 + t.month) == (year * 1000 + month)]\n",
    "        if year == 2017 and month > 6:\n",
    "            break\n",
    "        top2 = subset.committer_name.value_counts()[:2]\n",
    "        arr = []\n",
    "        for committer in top2.index:\n",
    "            arr.append(len(set(subset[subset.committer_name == committer]['author_name'])))\n",
    "        result[(year,month)] = arr"
   ]
  },
  {
   "cell_type": "code",
   "execution_count": 138,
   "metadata": {
    "collapsed": false
   },
   "outputs": [
    {
     "data": {
      "text/plain": [
       "<matplotlib.axes._subplots.AxesSubplot at 0x1eb49668>"
      ]
     },
     "execution_count": 138,
     "metadata": {},
     "output_type": "execute_result"
    },
    {
     "data": {
      "image/png": "[encoded data removed]",
      "text/plain": [
       "<matplotlib.figure.Figure at 0x26c21ba8>"
      ]
     },
     "metadata": {},
     "output_type": "display_data"
    }
   ],
   "source": [
    "plt.figure(facecolor='white')\n",
    "pd.DataFrame(result).T[0].plot('bar', color='blue', figsize=(16,9))"
   ]
  },
  {
   "cell_type": "code",
   "execution_count": 139,
   "metadata": {
    "collapsed": false
   },
   "outputs": [
    {
     "name": "stdout",
     "output_type": "stream",
     "text": [
      "count    32.000000\n",
      "mean     22.187500\n",
      "std       6.741482\n",
      "min      11.000000\n",
      "25%      16.750000\n",
      "50%      21.500000\n",
      "75%      27.250000\n",
      "max      35.000000\n",
      "dtype: float64\n",
      "count    18.000000\n",
      "mean      6.944444\n",
      "std       3.764731\n",
      "min       2.000000\n",
      "25%       4.000000\n",
      "50%       7.000000\n",
      "75%       9.000000\n",
      "max      16.000000\n",
      "dtype: float64\n"
     ]
    }
   ],
   "source": [
    "print pd.Series([v[0] for k,v in result.items() if k < (2015,9)]).describe()\n",
    "print pd.Series([v[0] for k,v in result.items() if k > (2015,12)]).describe()"
   ]
  },
  {
   "cell_type": "code",
   "execution_count": 187,
   "metadata": {
    "collapsed": true
   },
   "outputs": [],
   "source": [
    "# tag"
   ]
  },
  {
   "cell_type": "code",
   "execution_count": 200,
   "metadata": {
    "collapsed": true
   },
   "outputs": [],
   "source": [
    "result = {}\n",
    "for year in range(2013,2018):\n",
    "    for month in range(1,13):\n",
    "        if year == 2017 and month > 6:\n",
    "            break\n",
    "        subset = selected[selected.committed_datetime.map(lambda t: t.year * 1000 + t.month) == (year * 1000 + month)]\n",
    "        desc = subset.message.map(lambda m:  \"Acked-by\" in m or \"Reviewed-by\" in m or \"Tested-by\" in m ).value_counts(normalize=True)[True]\n",
    "        result[(year,month)] = desc"
   ]
  },
  {
   "cell_type": "code",
   "execution_count": 202,
   "metadata": {
    "collapsed": false
   },
   "outputs": [
    {
     "data": {
      "text/plain": [
       "<matplotlib.axes._subplots.AxesSubplot at 0x15a2f940>"
      ]
     },
     "execution_count": 202,
     "metadata": {},
     "output_type": "execute_result"
    },
    {
     "data": {
      "image/png": "[encoded data removed]",
      "text/plain": [
       "<matplotlib.figure.Figure at 0x15a01b70>"
      ]
     },
     "metadata": {},
     "output_type": "display_data"
    }
   ],
   "source": [
    "plt.figure(facecolor='white')\n",
    "pd.Series(result).plot('bar', figsize=(16,9), color='blue')"
   ]
  },
  {
   "cell_type": "code",
   "execution_count": 204,
   "metadata": {
    "collapsed": false
   },
   "outputs": [
    {
     "name": "stdout",
     "output_type": "stream",
     "text": [
      "count    32.000000\n",
      "mean      0.740213\n",
      "std       0.081564\n",
      "min       0.557377\n",
      "25%       0.705606\n",
      "50%       0.740885\n",
      "75%       0.780179\n",
      "max       0.891892\n",
      "dtype: float64\n",
      "count    18.000000\n",
      "mean      0.900273\n",
      "std       0.035901\n",
      "min       0.833819\n",
      "25%       0.875537\n",
      "50%       0.903514\n",
      "75%       0.928400\n",
      "max       0.956522\n",
      "dtype: float64\n"
     ]
    }
   ],
   "source": [
    "print pd.Series([v for k,v in result.items() if k < (2015,9)]).describe()\n",
    "print pd.Series([v for k,v in result.items() if k > (2015,12)]).describe()"
   ]
  },
  {
   "cell_type": "code",
   "execution_count": 181,
   "metadata": {
    "collapsed": true
   },
   "outputs": [],
   "source": [
    "# delay"
   ]
  },
  {
   "cell_type": "code",
   "execution_count": 233,
   "metadata": {
    "collapsed": true
   },
   "outputs": [],
   "source": [
    "result = {}\n",
    "for year in range(2013,2018):\n",
    "    for month in range(1,13):\n",
    "        if year == 2017 and month > 6:\n",
    "            break\n",
    "        subset = selected[selected.committed_datetime.map(lambda t: t.year * 1000 + t.month) == (year * 1000 + month)]\n",
    "        desc = (subset.committed_datetime - subset.authored_datetime).median()\n",
    "        result[(year,month)] = desc"
   ]
  },
  {
   "cell_type": "code",
   "execution_count": 246,
   "metadata": {
    "collapsed": false
   },
   "outputs": [
    {
     "data": {
      "text/plain": [
       "<matplotlib.axes._subplots.AxesSubplot at 0x18588f28>"
      ]
     },
     "execution_count": 246,
     "metadata": {},
     "output_type": "execute_result"
    },
    {
     "data": {
      "image/png": "[encoded data removed]",
      "text/plain": [
       "<matplotlib.figure.Figure at 0x10bd3710>"
      ]
     },
     "metadata": {},
     "output_type": "display_data"
    }
   ],
   "source": [
    "plt.figure(facecolor=\"white\")\n",
    "pd.Series(result).map(lambda t: t.total_seconds()*1.0 / 86400).plot('bar', color='blue', figsize=(16,9))"
   ]
  },
  {
   "cell_type": "code",
   "execution_count": 248,
   "metadata": {
    "collapsed": true
   },
   "outputs": [],
   "source": [
    "before = selected[selected.committed_datetime.map(lambda t: t.year * 100 + t.month).map(lambda d: d >= 201300 and d < 201509)]\n",
    "after = selected[selected.committed_datetime.map(lambda t: t.year * 100 + t.month).map(lambda d: d >= 201600 and d < 201707)]"
   ]
  },
  {
   "cell_type": "code",
   "execution_count": 249,
   "metadata": {
    "collapsed": false
   },
   "outputs": [
    {
     "data": {
      "text/plain": [
       "count                       5686\n",
       "mean     11 days 19:22:12.005979\n",
       "std      31 days 22:01:42.684108\n",
       "min            -1 days +03:05:48\n",
       "25%       1 days 02:21:48.500000\n",
       "50%              5 days 11:00:59\n",
       "75%      11 days 19:36:47.750000\n",
       "max            587 days 21:05:48\n",
       "Name: committed_datetime, dtype: object"
      ]
     },
     "execution_count": 249,
     "metadata": {},
     "output_type": "execute_result"
    }
   ],
   "source": [
    "(before.committed_datetime - before.authored_datetime).describe()"
   ]
  },
  {
   "cell_type": "code",
   "execution_count": 250,
   "metadata": {
    "collapsed": false
   },
   "outputs": [
    {
     "data": {
      "text/plain": [
       "count                       4537\n",
       "mean      6 days 04:20:47.985232\n",
       "std      18 days 18:20:01.297671\n",
       "min            -5 days +17:45:30\n",
       "25%              0 days 03:28:42\n",
       "50%              0 days 23:05:55\n",
       "75%              5 days 16:30:05\n",
       "max            393 days 10:45:27\n",
       "Name: committed_datetime, dtype: object"
      ]
     },
     "execution_count": 250,
     "metadata": {},
     "output_type": "execute_result"
    }
   ],
   "source": [
    "(after.committed_datetime - after.authored_datetime).describe()"
   ]
  },
  {
   "cell_type": "code",
   "execution_count": null,
   "metadata": {
    "collapsed": true
   },
   "outputs": [],
   "source": []
  }
 ],
 "metadata": {
  "kernelspec": {
   "display_name": "Python [Root]",
   "language": "python",
   "name": "Python [Root]"
  },
  "language_info": {
   "codemirror_mode": {
    "name": "ipython",
    "version": 2
   },
   "file_extension": ".py",
   "mimetype": "text/x-python",
   "name": "python",
   "nbconvert_exporter": "python",
   "pygments_lexer": "ipython2",
   "version": "2.7.11"
  }
 },
 "nbformat": 4,
 "nbformat_minor": 0
}
