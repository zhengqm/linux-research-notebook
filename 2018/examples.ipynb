{
 "cells": [
  {
   "cell_type": "code",
   "execution_count": 1,
   "metadata": {
    "collapsed": true
   },
   "outputs": [],
   "source": [
    "import pandas as pd"
   ]
  },
  {
   "cell_type": "code",
   "execution_count": 2,
   "metadata": {
    "collapsed": true
   },
   "outputs": [],
   "source": [
    "df = pd.read_pickle(\"../commits.pkl\")"
   ]
  },
  {
   "cell_type": "code",
   "execution_count": 3,
   "metadata": {
    "collapsed": true
   },
   "outputs": [],
   "source": [
    "sub = df[df.message.map(lambda m: \"Signed-off\" in m and \"Reviewed-by\" in m)]"
   ]
  },
  {
   "cell_type": "code",
   "execution_count": 6,
   "metadata": {
    "collapsed": false
   },
   "outputs": [
    {
     "name": "stdout",
     "output_type": "stream",
     "text": [
      "hexsha                         105ddc93f06ebe3e553f58563d11ed63dbcd59f0\n",
      "authored_datetime                             2017-11-02 22:59:37+00:00\n",
      "author_name                                               Ashish Samant\n",
      "author_email                                   ashish.samant@oracle.com\n",
      "committed_datetime                            2017-11-03 14:39:19+00:00\n",
      "committer_name                                           Linus Torvalds\n",
      "committer_email                           torvalds@linux-foundation.org\n",
      "summary               ocfs2: fstrim: Fix start offset of first clust...\n",
      "message               ocfs2: fstrim: Fix start offset of first clust...\n",
      "files                                                  fs/ocfs2/alloc.c\n",
      "Name: 37, dtype: object\n"
     ]
    }
   ],
   "source": [
    "print sub.iloc[0]"
   ]
  },
  {
   "cell_type": "code",
   "execution_count": 4,
   "metadata": {
    "collapsed": false
   },
   "outputs": [
    {
     "name": "stdout",
     "output_type": "stream",
     "text": [
      "ocfs2: fstrim: Fix start offset of first cluster group during fstrim\n",
      "\n",
      "The first cluster group descriptor is not stored at the start of the\n",
      "group but at an offset from the start.  We need to take this into\n",
      "account while doing fstrim on the first cluster group.  Otherwise we\n",
      "will wrongly start fstrim a few blocks after the desired start block and\n",
      "the range can cross over into the next cluster group and zero out the\n",
      "group descriptor there.  This can cause filesytem corruption that cannot\n",
      "be fixed by fsck.\n",
      "\n",
      "Link: http://lkml.kernel.org/r/1507835579-7308-1-git-send-email-ashish.samant@oracle.com\n",
      "Signed-off-by: Ashish Samant <ashish.samant@oracle.com>\n",
      "Reviewed-by: Junxiao Bi <junxiao.bi@oracle.com>\n",
      "Reviewed-by: Joseph Qi <jiangqi903@gmail.com>\n",
      "Cc: Mark Fasheh <mfasheh@versity.com>\n",
      "Cc: Joel Becker <jlbec@evilplan.org>\n",
      "Cc: <stable@vger.kernel.org>\n",
      "Signed-off-by: Andrew Morton <akpm@linux-foundation.org>\n",
      "Signed-off-by: Linus Torvalds <torvalds@linux-foundation.org>\n",
      "\n"
     ]
    }
   ],
   "source": [
    "print sub.message.iloc[0]"
   ]
  },
  {
   "cell_type": "code",
   "execution_count": 5,
   "metadata": {
    "collapsed": false
   },
   "outputs": [
    {
     "name": "stdout",
     "output_type": "stream",
     "text": [
      "i2c: imx: use IRQF_SHARED mode to request IRQ\n",
      "\n",
      "Some SoC share one irq number between I2C controllers.\n",
      "For example, on the LS2088 board, I2C 1 and I2C 2 share\n",
      "one irq number. In this case, only one I2C controller\n",
      "can register successfully, and others will fail.\n",
      "\n",
      "Signed-off-by: Wei Jinhua <wei.jinhua1@zte.com.cn>\n",
      "Reviewed-by: Jiang Biao <jiang.biao2@zte.com.cn>\n",
      "Acked-by: Uwe Kleine-König <u.kleine-koenig@pengutronix.de>\n",
      "Signed-off-by: Wolfram Sang <wsa@the-dreams.de>\n",
      "\n"
     ]
    }
   ],
   "source": [
    "print sub.message.iloc[100]"
   ]
  },
  {
   "cell_type": "code",
   "execution_count": null,
   "metadata": {
    "collapsed": true
   },
   "outputs": [],
   "source": []
  }
 ],
 "metadata": {
  "kernelspec": {
   "display_name": "Python [Root]",
   "language": "python",
   "name": "Python [Root]"
  },
  "language_info": {
   "codemirror_mode": {
    "name": "ipython",
    "version": 2
   },
   "file_extension": ".py",
   "mimetype": "text/x-python",
   "name": "python",
   "nbconvert_exporter": "python",
   "pygments_lexer": "ipython2",
   "version": "2.7.11"
  }
 },
 "nbformat": 4,
 "nbformat_minor": 0
}
