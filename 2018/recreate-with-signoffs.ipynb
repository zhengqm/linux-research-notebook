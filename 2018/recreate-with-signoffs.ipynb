{
 "cells": [
  {
   "cell_type": "code",
   "execution_count": 37,
   "metadata": {
    "collapsed": true
   },
   "outputs": [],
   "source": [
    "import pandas as pd\n",
    "import re\n",
    "from collections import Counter, defaultdict\n",
    "import matplotlib.pyplot as plt\n",
    "import numpy as np\n",
    "%matplotlib inline"
   ]
  },
  {
   "cell_type": "code",
   "execution_count": null,
   "metadata": {
    "collapsed": true
   },
   "outputs": [],
   "source": [
    "commits = pd.read_pickle(\"../commits.pkl\")"
   ]
  },
  {
   "cell_type": "markdown",
   "metadata": {},
   "source": [
    "# Related Work\n",
    "\n",
    "Zhou's work "
   ]
  },
  {
   "cell_type": "markdown",
   "metadata": {},
   "source": [
    "Story:\n",
    "    \n",
    "We find that the top 60 committers are responsible for over 80% of total commits. The similar 80/20 distribution is also discovered in Zhou's Work. We therefore focus on the busiest developers in the community."
   ]
  },
  {
   "cell_type": "code",
   "execution_count": 143,
   "metadata": {
    "collapsed": true
   },
   "outputs": [],
   "source": [
    "result = {}\n",
    "for year in range(2007, 2017):\n",
    "    selected = commits[commits.committed_datetime.map(lambda t: t.year == year)]\n",
    "    result[year] = selected.committer_name.value_counts(normalize=True)[:60].sum()"
   ]
  },
  {
   "cell_type": "code",
   "execution_count": 144,
   "metadata": {
    "collapsed": false
   },
   "outputs": [
    {
     "data": {
      "text/plain": [
       "2007    0.990054\n",
       "2008    0.941359\n",
       "2009    0.903587\n",
       "2010    0.864430\n",
       "2011    0.825283\n",
       "2012    0.799320\n",
       "2013    0.819162\n",
       "2014    0.820174\n",
       "2015    0.821237\n",
       "2016    0.802292\n",
       "dtype: float64"
      ]
     },
     "execution_count": 144,
     "metadata": {},
     "output_type": "execute_result"
    }
   ],
   "source": [
    "pct = pd.Series(result)\n",
    "pct"
   ]
  },
  {
   "cell_type": "code",
   "execution_count": 146,
   "metadata": {
    "collapsed": false
   },
   "outputs": [
    {
     "data": {
      "text/plain": [
       "<matplotlib.text.Text at 0x252146d8>"
      ]
     },
     "execution_count": 146,
     "metadata": {},
     "output_type": "execute_result"
    },
    {
     "data": {
      "image/png": "[encoded data removed]",
      "text/plain": [
       "<matplotlib.figure.Figure at 0x17b20ba8>"
      ]
     },
     "metadata": {},
     "output_type": "display_data"
    }
   ],
   "source": [
    "plt.figure(figsize=(12, 6.75), facecolor=\"white\")\n",
    "plt.bar(pct.index, pct, color=\"#348ABD\", alpha=0.65,\n",
    "        label=\"Mean throughput of top 60 signers\", align=\"center\")\n",
    "plt.ylim([0,1])\n",
    "plt.xlim([2006.5,2016.5])\n",
    "plt.xticks(pct.index, map(lambda t: str(t), range(2007,2017)))\n",
    "plt.plot(range(2006, 2018), [0.798] * (len(pct) + 2) , lw=2, color=\"#E24A33\")\n",
    "plt.title(\"%commits by top 60 committers\")"
   ]
  },
  {
   "cell_type": "markdown",
   "metadata": {},
   "source": [
    "The committer field reveals important information about the workload of linux maintainers. ..."
   ]
  },
  {
   "cell_type": "markdown",
   "metadata": {},
   "source": [
    "However, simply using committers to measure the workload of linux kernel maintainers could be problematic. First of all, some linux kernel maintainers do not use git to manage their incoming patches, and therefore never show up as a committer in the linux kernel version control history. One important example of this is Andrew Morton, he is arguably one the most important maintainers in the community. However, he uses quilt to manage the patches and his name never appears in the committer field. Secondly, some patches go through multiple maintainers before landing on the kernel repository. Focusing on the committer field would underestimate the workload of other maintainers in the delivery path."
   ]
  },
  {
   "cell_type": "markdown",
   "metadata": {},
   "source": [
    "Linux kernel community uses the sign-off tag in the commit message to track the related maintainers of patches. When ..., the maintainers will add a sign-off tag as ... The sign-off tag is a better indicator of the workload of maintainers for two reasons: 1. It is added no matter whether the maintainer uses git or not and 2. Each maintainer in the delivery path has his or her name on it."
   ]
  },
  {
   "cell_type": "markdown",
   "metadata": {},
   "source": [
    "One important drawback of using sign-off tag is that unlike committer field, the sign-off tag does not have a timestamp attached on it. We use this strategy: We use the top 60 signers when timestamp information is not needed and top 60 committers when timestamp needed.\n",
    "\n",
    "Checked: The top 60 signers are all maintainers listed on MAINTAINERS file."
   ]
  },
  {
   "cell_type": "code",
   "execution_count": 31,
   "metadata": {
    "collapsed": true
   },
   "outputs": [],
   "source": [
    "\n",
    "pattern = re.compile(\"Signed-off-by: (.*) <.*>\")\n",
    "review_pattern = re.compile(\"Reviewed-by: (.*) <.*>\")"
   ]
  },
  {
   "cell_type": "markdown",
   "metadata": {},
   "source": [
    "# throughput (#commits) of top maintainers"
   ]
  },
  {
   "cell_type": "code",
   "execution_count": 147,
   "metadata": {
    "collapsed": true
   },
   "outputs": [],
   "source": [
    "result = {}\n",
    "for year in range(2007, 2017):\n",
    "    selected = commits[commits.committed_datetime.map(lambda t: t.year == year)]\n",
    "    counter = Counter()\n",
    "    for msg in selected.message:\n",
    "        signers = pattern.findall(msg)\n",
    "        if len(signers) > 1:\n",
    "            for signer in signers[1:]:\n",
    "                counter[signer] += 1\n",
    "    result[year] = pd.Series(map(lambda t: t[1], counter.most_common(60)))"
   ]
  },
  {
   "cell_type": "code",
   "execution_count": 148,
   "metadata": {
    "collapsed": false
   },
   "outputs": [
    {
     "data": {
      "text/html": [
       "<div>\n",
       "<style scoped>\n",
       "    .dataframe tbody tr th:only-of-type {\n",
       "        vertical-align: middle;\n",
       "    }\n",
       "\n",
       "    .dataframe tbody tr th {\n",
       "        vertical-align: top;\n",
       "    }\n",
       "\n",
       "    .dataframe thead th {\n",
       "        text-align: right;\n",
       "    }\n",
       "</style>\n",
       "<table border=\"1\" class=\"dataframe\">\n",
       "  <thead>\n",
       "    <tr style=\"text-align: right;\">\n",
       "      <th></th>\n",
       "      <th>2007</th>\n",
       "      <th>2008</th>\n",
       "      <th>2009</th>\n",
       "      <th>2010</th>\n",
       "      <th>2011</th>\n",
       "      <th>2012</th>\n",
       "      <th>2013</th>\n",
       "      <th>2014</th>\n",
       "      <th>2015</th>\n",
       "      <th>2016</th>\n",
       "    </tr>\n",
       "  </thead>\n",
       "  <tbody>\n",
       "    <tr>\n",
       "      <th>count</th>\n",
       "      <td>60.000000</td>\n",
       "      <td>60.000000</td>\n",
       "      <td>60.000000</td>\n",
       "      <td>60.000000</td>\n",
       "      <td>60.000000</td>\n",
       "      <td>60.000000</td>\n",
       "      <td>60.000000</td>\n",
       "      <td>60.000000</td>\n",
       "      <td>60.000000</td>\n",
       "      <td>60.000000</td>\n",
       "    </tr>\n",
       "    <tr>\n",
       "      <th>mean</th>\n",
       "      <td>502.233333</td>\n",
       "      <td>741.383333</td>\n",
       "      <td>664.066667</td>\n",
       "      <td>584.616667</td>\n",
       "      <td>616.833333</td>\n",
       "      <td>682.516667</td>\n",
       "      <td>799.183333</td>\n",
       "      <td>877.216667</td>\n",
       "      <td>867.083333</td>\n",
       "      <td>866.933333</td>\n",
       "    </tr>\n",
       "    <tr>\n",
       "      <th>std</th>\n",
       "      <td>1089.076259</td>\n",
       "      <td>1255.442742</td>\n",
       "      <td>1039.921067</td>\n",
       "      <td>876.988783</td>\n",
       "      <td>924.484853</td>\n",
       "      <td>1014.215109</td>\n",
       "      <td>1220.884446</td>\n",
       "      <td>1506.057870</td>\n",
       "      <td>1430.106329</td>\n",
       "      <td>1309.839360</td>\n",
       "    </tr>\n",
       "    <tr>\n",
       "      <th>min</th>\n",
       "      <td>52.000000</td>\n",
       "      <td>103.000000</td>\n",
       "      <td>115.000000</td>\n",
       "      <td>145.000000</td>\n",
       "      <td>177.000000</td>\n",
       "      <td>182.000000</td>\n",
       "      <td>208.000000</td>\n",
       "      <td>231.000000</td>\n",
       "      <td>228.000000</td>\n",
       "      <td>214.000000</td>\n",
       "    </tr>\n",
       "    <tr>\n",
       "      <th>25%</th>\n",
       "      <td>81.500000</td>\n",
       "      <td>158.500000</td>\n",
       "      <td>176.000000</td>\n",
       "      <td>195.750000</td>\n",
       "      <td>240.000000</td>\n",
       "      <td>248.500000</td>\n",
       "      <td>264.000000</td>\n",
       "      <td>317.250000</td>\n",
       "      <td>286.250000</td>\n",
       "      <td>318.000000</td>\n",
       "    </tr>\n",
       "    <tr>\n",
       "      <th>50%</th>\n",
       "      <td>150.000000</td>\n",
       "      <td>231.000000</td>\n",
       "      <td>285.500000</td>\n",
       "      <td>276.000000</td>\n",
       "      <td>331.500000</td>\n",
       "      <td>335.000000</td>\n",
       "      <td>391.000000</td>\n",
       "      <td>437.500000</td>\n",
       "      <td>426.500000</td>\n",
       "      <td>442.000000</td>\n",
       "    </tr>\n",
       "    <tr>\n",
       "      <th>75%</th>\n",
       "      <td>400.000000</td>\n",
       "      <td>642.750000</td>\n",
       "      <td>496.500000</td>\n",
       "      <td>464.500000</td>\n",
       "      <td>464.500000</td>\n",
       "      <td>529.000000</td>\n",
       "      <td>734.250000</td>\n",
       "      <td>629.750000</td>\n",
       "      <td>735.000000</td>\n",
       "      <td>820.250000</td>\n",
       "    </tr>\n",
       "    <tr>\n",
       "      <th>max</th>\n",
       "      <td>6015.000000</td>\n",
       "      <td>5408.000000</td>\n",
       "      <td>4861.000000</td>\n",
       "      <td>4579.000000</td>\n",
       "      <td>5734.000000</td>\n",
       "      <td>6465.000000</td>\n",
       "      <td>7706.000000</td>\n",
       "      <td>10185.000000</td>\n",
       "      <td>9585.000000</td>\n",
       "      <td>7574.000000</td>\n",
       "    </tr>\n",
       "  </tbody>\n",
       "</table>\n",
       "</div>"
      ],
      "text/plain": [
       "              2007         2008         2009         2010         2011  \\\n",
       "count    60.000000    60.000000    60.000000    60.000000    60.000000   \n",
       "mean    502.233333   741.383333   664.066667   584.616667   616.833333   \n",
       "std    1089.076259  1255.442742  1039.921067   876.988783   924.484853   \n",
       "min      52.000000   103.000000   115.000000   145.000000   177.000000   \n",
       "25%      81.500000   158.500000   176.000000   195.750000   240.000000   \n",
       "50%     150.000000   231.000000   285.500000   276.000000   331.500000   \n",
       "75%     400.000000   642.750000   496.500000   464.500000   464.500000   \n",
       "max    6015.000000  5408.000000  4861.000000  4579.000000  5734.000000   \n",
       "\n",
       "              2012         2013          2014         2015         2016  \n",
       "count    60.000000    60.000000     60.000000    60.000000    60.000000  \n",
       "mean    682.516667   799.183333    877.216667   867.083333   866.933333  \n",
       "std    1014.215109  1220.884446   1506.057870  1430.106329  1309.839360  \n",
       "min     182.000000   208.000000    231.000000   228.000000   214.000000  \n",
       "25%     248.500000   264.000000    317.250000   286.250000   318.000000  \n",
       "50%     335.000000   391.000000    437.500000   426.500000   442.000000  \n",
       "75%     529.000000   734.250000    629.750000   735.000000   820.250000  \n",
       "max    6465.000000  7706.000000  10185.000000  9585.000000  7574.000000  "
      ]
     },
     "execution_count": 148,
     "metadata": {},
     "output_type": "execute_result"
    }
   ],
   "source": [
    "stat = pd.DataFrame(result).describe()\n",
    "stat"
   ]
  },
  {
   "cell_type": "code",
   "execution_count": 151,
   "metadata": {
    "collapsed": false
   },
   "outputs": [
    {
     "data": {
      "text/plain": [
       "<matplotlib.text.Text at 0x23581128>"
      ]
     },
     "execution_count": 151,
     "metadata": {},
     "output_type": "execute_result"
    },
    {
     "data": {
      "image/png": "[encoded data removed]",
      "text/plain": [
       "<matplotlib.figure.Figure at 0x258c5eb8>"
      ]
     },
     "metadata": {},
     "output_type": "display_data"
    }
   ],
   "source": [
    "plt.figure(figsize=(12, 6.75), facecolor=\"white\")\n",
    "plt.bar(stat.loc['mean'].index, stat.loc['mean'], color=\"#348ABD\", alpha=0.65,\n",
    "        label=\"Mean throughput of top 60 signers\", align=\"center\")\n",
    "plt.ylim([300,900])\n",
    "plt.xticks(stat.loc['mean'].index, map(lambda t: str(t), range(2007,2017)))\n",
    "plt.title(\"Mean throughput of top 60 signers\")"
   ]
  },
  {
   "cell_type": "code",
   "execution_count": 153,
   "metadata": {
    "collapsed": false
   },
   "outputs": [
    {
     "data": {
      "text/plain": [
       "<matplotlib.text.Text at 0x25d27d30>"
      ]
     },
     "execution_count": 153,
     "metadata": {},
     "output_type": "execute_result"
    },
    {
     "data": {
      "image/png": "[encoded data removed]",
      "text/plain": [
       "<matplotlib.figure.Figure at 0x25f02e48>"
      ]
     },
     "metadata": {},
     "output_type": "display_data"
    }
   ],
   "source": [
    "plt.figure(figsize=(12, 6.75), facecolor=\"white\")\n",
    "plt.bar(stat.loc['50%'].index, stat.loc['50%'], color=\"#348ABD\", alpha=0.65,\n",
    "        label=\"Mean throughput of top 60 signers\", align=\"center\")\n",
    "plt.ylim([100,500])\n",
    "plt.xticks(stat.loc['50%'].index, map(lambda t: str(t), range(2007,2017)))\n",
    "plt.title(\"Median throughput of top 60 signers\")\n"
   ]
  },
  {
   "cell_type": "markdown",
   "metadata": {},
   "source": [
    "# Pressure (percentage of overwork commits) of top maintainers"
   ]
  },
  {
   "cell_type": "code",
   "execution_count": 132,
   "metadata": {
    "collapsed": true
   },
   "outputs": [],
   "source": []
  },
  {
   "cell_type": "code",
   "execution_count": 154,
   "metadata": {
    "collapsed": true
   },
   "outputs": [],
   "source": [
    "result = {}\n",
    "for year in range(2007, 2017):\n",
    "    subset = commits[commits.committed_datetime.map(lambda t: t.year) == year]\n",
    "    committers = subset.committer_name.value_counts()[:60]\n",
    "    arr = []\n",
    "    for committer in committers.index:\n",
    "        df = subset[subset.committer_name == committer]\n",
    "        s = df.committed_datetime.map(lambda t: t.hour).value_counts(normalize=True)\n",
    "        if len(s) > 8:\n",
    "            arr.append(s[8:].sum())\n",
    "        else:\n",
    "            arr.append(0.0)\n",
    "    result[year] = arr"
   ]
  },
  {
   "cell_type": "code",
   "execution_count": 155,
   "metadata": {
    "collapsed": false
   },
   "outputs": [],
   "source": [
    "stat = pd.DataFrame(result).describe()"
   ]
  },
  {
   "cell_type": "code",
   "execution_count": 163,
   "metadata": {
    "collapsed": false
   },
   "outputs": [
    {
     "data": {
      "text/plain": [
       "<matplotlib.text.Text at 0x115562e8>"
      ]
     },
     "execution_count": 163,
     "metadata": {},
     "output_type": "execute_result"
    },
    {
     "data": {
      "image/png": "[encoded data removed]",
      "text/plain": [
       "<matplotlib.figure.Figure at 0x1198bcc0>"
      ]
     },
     "metadata": {},
     "output_type": "display_data"
    }
   ],
   "source": [
    "\n",
    "plt.figure(figsize=(12, 6.75), facecolor=\"white\")\n",
    "plt.bar(stat.loc['mean'].index, stat.loc['mean'], color=\"#348ABD\", alpha=0.65,\n",
    "        label=\"Mean overwork commit percentage of top maintainers\", align=\"center\")\n",
    "plt.ylim([0.05,0.22])\n",
    "plt.xticks(stat.loc['mean'].index, map(lambda t: str(t), range(2007,2017)))\n",
    "plt.title(\"Mean overwork commit percentage of top maintainers\")"
   ]
  },
  {
   "cell_type": "code",
   "execution_count": 162,
   "metadata": {
    "collapsed": false
   },
   "outputs": [
    {
     "data": {
      "text/plain": [
       "<matplotlib.text.Text at 0x12302da0>"
      ]
     },
     "execution_count": 162,
     "metadata": {},
     "output_type": "execute_result"
    },
    {
     "data": {
      "image/png": "[encoded data removed]",
      "text/plain": [
       "<matplotlib.figure.Figure at 0x258c5e48>"
      ]
     },
     "metadata": {},
     "output_type": "display_data"
    }
   ],
   "source": [
    "\n",
    "plt.figure(figsize=(12, 6.75), facecolor=\"white\")\n",
    "plt.bar(stat.loc['50%'].index, stat.loc['50%'], color=\"#348ABD\", alpha=0.65,\n",
    "        label=\"Median overwork commit percentage of top maintainers\", align=\"center\")\n",
    "plt.ylim([0.05,0.22])\n",
    "plt.xticks(stat.loc['50%'].index, map(lambda t: str(t), range(2007,2017)))\n",
    "plt.title(\"Median overwork commit percentage of top maintainers\")"
   ]
  },
  {
   "cell_type": "code",
   "execution_count": 160,
   "metadata": {
    "collapsed": true
   },
   "outputs": [],
   "source": [
    "# contiguous version"
   ]
  },
  {
   "cell_type": "code",
   "execution_count": 164,
   "metadata": {
    "collapsed": true
   },
   "outputs": [],
   "source": [
    "def overwork_ratio(s):\n",
    "    temp = {}\n",
    "    for i in range(24):\n",
    "        if i in s:\n",
    "            temp[i] = s[i]\n",
    "        else:\n",
    "            temp[i] = 0\n",
    "    for i in range(24, 48):\n",
    "        temp[i] = temp[i-24]\n",
    "    s = pd.Series(temp)\n",
    "    s = s.sort_index()\n",
    "    return 1 - s.rolling(window=8).sum().max()"
   ]
  },
  {
   "cell_type": "code",
   "execution_count": 216,
   "metadata": {
    "collapsed": true
   },
   "outputs": [],
   "source": [
    "result = {}\n",
    "for year in range(2007, 2017):\n",
    "    subset = commits[commits.committed_datetime.map(lambda t: t.year) == year]\n",
    "    committers = subset.committer_name.value_counts()[:60]\n",
    "    arr = []\n",
    "    for committer in committers.index:\n",
    "        df = subset[subset.committer_name == committer]\n",
    "        s = df.committed_datetime.map(lambda t: t.hour).value_counts(normalize=True)\n",
    "        arr.append(overwork_ratio(s))\n",
    "    result[year] = arr"
   ]
  },
  {
   "cell_type": "code",
   "execution_count": 217,
   "metadata": {
    "collapsed": true
   },
   "outputs": [],
   "source": [
    "stat = pd.DataFrame(result).describe()"
   ]
  },
  {
   "cell_type": "code",
   "execution_count": 218,
   "metadata": {
    "collapsed": false
   },
   "outputs": [
    {
     "data": {
      "text/plain": [
       "<matplotlib.text.Text at 0x164ecda0>"
      ]
     },
     "execution_count": 218,
     "metadata": {},
     "output_type": "execute_result"
    },
    {
     "data": {
      "image/png": "[encoded data removed]",
      "text/plain": [
       "<matplotlib.figure.Figure at 0x15e6d0b8>"
      ]
     },
     "metadata": {},
     "output_type": "display_data"
    }
   ],
   "source": [
    "\n",
    "plt.figure(figsize=(12, 6.75), facecolor=\"white\")\n",
    "plt.bar(stat.loc['mean'].index, stat.loc['mean'], color=\"#348ABD\", alpha=0.65,\n",
    "        label=\"Mean overwork commit percentage of top maintainers (contiguous)\", align=\"center\")\n",
    "plt.ylim([0.15,0.32])\n",
    "plt.xticks(stat.loc['mean'].index, map(lambda t: str(t), range(2007,2017)))\n",
    "plt.title(\"Mean overwork commit percentage of top maintainers (contiguous)\")"
   ]
  },
  {
   "cell_type": "code",
   "execution_count": 219,
   "metadata": {
    "collapsed": false
   },
   "outputs": [
    {
     "data": {
      "text/plain": [
       "<matplotlib.text.Text at 0x1e7c2080>"
      ]
     },
     "execution_count": 219,
     "metadata": {},
     "output_type": "execute_result"
    },
    {
     "data": {
      "image/png": "[encoded data removed]",
      "text/plain": [
       "<matplotlib.figure.Figure at 0x15b48b70>"
      ]
     },
     "metadata": {},
     "output_type": "display_data"
    }
   ],
   "source": [
    "\n",
    "plt.figure(figsize=(12, 6.75), facecolor=\"white\")\n",
    "plt.bar(stat.loc['50%'].index, stat.loc['50%'], color=\"#348ABD\", alpha=0.65,\n",
    "        label=\"Median overwork commit percentage of top maintainers (contiguous)\", align=\"center\")\n",
    "plt.ylim([0.15,0.35])\n",
    "plt.xticks(stat.loc['50%'].index, map(lambda t: str(t), range(2007,2017)))\n",
    "plt.title(\"Median overwork commit percentage of top maintainers (contiguous)\")"
   ]
  },
  {
   "cell_type": "code",
   "execution_count": null,
   "metadata": {
    "collapsed": true
   },
   "outputs": [],
   "source": []
  },
  {
   "cell_type": "code",
   "execution_count": null,
   "metadata": {
    "collapsed": true
   },
   "outputs": [],
   "source": []
  },
  {
   "cell_type": "markdown",
   "metadata": {},
   "source": [
    "# Complexity (#touched files) of top maintainers"
   ]
  },
  {
   "cell_type": "code",
   "execution_count": 178,
   "metadata": {
    "collapsed": false
   },
   "outputs": [
    {
     "data": {
      "text/plain": [
       "0.900     4.0\n",
       "0.990    17.0\n",
       "0.995    26.0\n",
       "0.999    65.0\n",
       "Name: files, dtype: float64"
      ]
     },
     "execution_count": 178,
     "metadata": {},
     "output_type": "execute_result"
    }
   ],
   "source": [
    "commits.files.map(lambda f: len(f.split(','))).quantile([0.9, 0.99,0.995, 0.999])"
   ]
  },
  {
   "cell_type": "code",
   "execution_count": 179,
   "metadata": {
    "collapsed": true
   },
   "outputs": [],
   "source": [
    "result = {}\n",
    "for year in range(2007, 2017):\n",
    "    selected = commits[commits.committed_datetime.map(lambda t: t.year == year)]\n",
    "    counter = Counter()\n",
    "    maintainer_to_file = defaultdict(lambda: set())\n",
    "    for idx in selected.index:\n",
    "        row = selected.loc[idx]\n",
    "        msg = row['message']\n",
    "        filelist = row['files'].split(',')\n",
    "        if len(filelist) > 26:\n",
    "            continue\n",
    "        signers = pattern.findall(msg)\n",
    "        if len(signers) > 1:\n",
    "            for signer in signers[1:]:\n",
    "                counter[signer] += 1\n",
    "                for f in filelist:\n",
    "                    maintainer_to_file[signer].add(f)\n",
    "    result[year] = pd.Series(map(lambda t: len(maintainer_to_file[t[0]]), counter.most_common(60)))"
   ]
  },
  {
   "cell_type": "code",
   "execution_count": 180,
   "metadata": {
    "collapsed": false
   },
   "outputs": [
    {
     "data": {
      "text/html": [
       "<div>\n",
       "<style scoped>\n",
       "    .dataframe tbody tr th:only-of-type {\n",
       "        vertical-align: middle;\n",
       "    }\n",
       "\n",
       "    .dataframe tbody tr th {\n",
       "        vertical-align: top;\n",
       "    }\n",
       "\n",
       "    .dataframe thead th {\n",
       "        text-align: right;\n",
       "    }\n",
       "</style>\n",
       "<table border=\"1\" class=\"dataframe\">\n",
       "  <thead>\n",
       "    <tr style=\"text-align: right;\">\n",
       "      <th></th>\n",
       "      <th>2007</th>\n",
       "      <th>2008</th>\n",
       "      <th>2009</th>\n",
       "      <th>2010</th>\n",
       "      <th>2011</th>\n",
       "      <th>2012</th>\n",
       "      <th>2013</th>\n",
       "      <th>2014</th>\n",
       "      <th>2015</th>\n",
       "      <th>2016</th>\n",
       "    </tr>\n",
       "  </thead>\n",
       "  <tbody>\n",
       "    <tr>\n",
       "      <th>count</th>\n",
       "      <td>60.000000</td>\n",
       "      <td>60.000000</td>\n",
       "      <td>60.000000</td>\n",
       "      <td>60.000000</td>\n",
       "      <td>60.000000</td>\n",
       "      <td>60.000000</td>\n",
       "      <td>60.000000</td>\n",
       "      <td>60.000000</td>\n",
       "      <td>60.000000</td>\n",
       "      <td>60.000000</td>\n",
       "    </tr>\n",
       "    <tr>\n",
       "      <th>mean</th>\n",
       "      <td>377.400000</td>\n",
       "      <td>450.383333</td>\n",
       "      <td>371.883333</td>\n",
       "      <td>337.200000</td>\n",
       "      <td>333.283333</td>\n",
       "      <td>366.800000</td>\n",
       "      <td>385.033333</td>\n",
       "      <td>399.150000</td>\n",
       "      <td>394.866667</td>\n",
       "      <td>419.783333</td>\n",
       "    </tr>\n",
       "    <tr>\n",
       "      <th>std</th>\n",
       "      <td>851.099552</td>\n",
       "      <td>820.919928</td>\n",
       "      <td>578.282791</td>\n",
       "      <td>468.462462</td>\n",
       "      <td>481.905930</td>\n",
       "      <td>503.609642</td>\n",
       "      <td>521.516757</td>\n",
       "      <td>536.563668</td>\n",
       "      <td>476.745480</td>\n",
       "      <td>492.380351</td>\n",
       "    </tr>\n",
       "    <tr>\n",
       "      <th>min</th>\n",
       "      <td>23.000000</td>\n",
       "      <td>31.000000</td>\n",
       "      <td>36.000000</td>\n",
       "      <td>15.000000</td>\n",
       "      <td>27.000000</td>\n",
       "      <td>25.000000</td>\n",
       "      <td>37.000000</td>\n",
       "      <td>53.000000</td>\n",
       "      <td>15.000000</td>\n",
       "      <td>60.000000</td>\n",
       "    </tr>\n",
       "    <tr>\n",
       "      <th>25%</th>\n",
       "      <td>70.250000</td>\n",
       "      <td>107.000000</td>\n",
       "      <td>97.000000</td>\n",
       "      <td>101.500000</td>\n",
       "      <td>87.500000</td>\n",
       "      <td>108.500000</td>\n",
       "      <td>144.750000</td>\n",
       "      <td>156.000000</td>\n",
       "      <td>151.750000</td>\n",
       "      <td>153.250000</td>\n",
       "    </tr>\n",
       "    <tr>\n",
       "      <th>50%</th>\n",
       "      <td>124.000000</td>\n",
       "      <td>194.000000</td>\n",
       "      <td>173.500000</td>\n",
       "      <td>190.500000</td>\n",
       "      <td>175.500000</td>\n",
       "      <td>204.500000</td>\n",
       "      <td>220.500000</td>\n",
       "      <td>248.000000</td>\n",
       "      <td>251.500000</td>\n",
       "      <td>242.500000</td>\n",
       "    </tr>\n",
       "    <tr>\n",
       "      <th>75%</th>\n",
       "      <td>323.250000</td>\n",
       "      <td>388.750000</td>\n",
       "      <td>333.250000</td>\n",
       "      <td>321.500000</td>\n",
       "      <td>300.500000</td>\n",
       "      <td>379.750000</td>\n",
       "      <td>349.000000</td>\n",
       "      <td>350.500000</td>\n",
       "      <td>422.500000</td>\n",
       "      <td>498.250000</td>\n",
       "    </tr>\n",
       "    <tr>\n",
       "      <th>max</th>\n",
       "      <td>4789.000000</td>\n",
       "      <td>4472.000000</td>\n",
       "      <td>2682.000000</td>\n",
       "      <td>2490.000000</td>\n",
       "      <td>2596.000000</td>\n",
       "      <td>2916.000000</td>\n",
       "      <td>3027.000000</td>\n",
       "      <td>3091.000000</td>\n",
       "      <td>2649.000000</td>\n",
       "      <td>2624.000000</td>\n",
       "    </tr>\n",
       "  </tbody>\n",
       "</table>\n",
       "</div>"
      ],
      "text/plain": [
       "              2007         2008         2009         2010         2011  \\\n",
       "count    60.000000    60.000000    60.000000    60.000000    60.000000   \n",
       "mean    377.400000   450.383333   371.883333   337.200000   333.283333   \n",
       "std     851.099552   820.919928   578.282791   468.462462   481.905930   \n",
       "min      23.000000    31.000000    36.000000    15.000000    27.000000   \n",
       "25%      70.250000   107.000000    97.000000   101.500000    87.500000   \n",
       "50%     124.000000   194.000000   173.500000   190.500000   175.500000   \n",
       "75%     323.250000   388.750000   333.250000   321.500000   300.500000   \n",
       "max    4789.000000  4472.000000  2682.000000  2490.000000  2596.000000   \n",
       "\n",
       "              2012         2013         2014         2015         2016  \n",
       "count    60.000000    60.000000    60.000000    60.000000    60.000000  \n",
       "mean    366.800000   385.033333   399.150000   394.866667   419.783333  \n",
       "std     503.609642   521.516757   536.563668   476.745480   492.380351  \n",
       "min      25.000000    37.000000    53.000000    15.000000    60.000000  \n",
       "25%     108.500000   144.750000   156.000000   151.750000   153.250000  \n",
       "50%     204.500000   220.500000   248.000000   251.500000   242.500000  \n",
       "75%     379.750000   349.000000   350.500000   422.500000   498.250000  \n",
       "max    2916.000000  3027.000000  3091.000000  2649.000000  2624.000000  "
      ]
     },
     "execution_count": 180,
     "metadata": {},
     "output_type": "execute_result"
    }
   ],
   "source": [
    "stat = pd.DataFrame(result).describe()\n",
    "stat"
   ]
  },
  {
   "cell_type": "code",
   "execution_count": 182,
   "metadata": {
    "collapsed": false
   },
   "outputs": [
    {
     "data": {
      "text/plain": [
       "<matplotlib.text.Text at 0x1645dda0>"
      ]
     },
     "execution_count": 182,
     "metadata": {},
     "output_type": "execute_result"
    },
    {
     "data": {
      "image/png": "[encoded data removed]",
      "text/plain": [
       "<matplotlib.figure.Figure at 0x19b57470>"
      ]
     },
     "metadata": {},
     "output_type": "display_data"
    }
   ],
   "source": [
    "\n",
    "plt.figure(figsize=(12, 6.75), facecolor=\"white\")\n",
    "plt.bar(stat.loc['mean'].index, stat.loc['mean'], color=\"#348ABD\", alpha=0.65,\n",
    "        label=\"Mean throughput of top 60 signers\", align=\"center\")\n",
    "#plt.ylim([300,450])\n",
    "plt.xticks(stat.loc['mean'].index, map(lambda t: str(t), range(2007,2017)))\n",
    "plt.title(\"Mean number of touched files by top 60 signers\")"
   ]
  },
  {
   "cell_type": "code",
   "execution_count": 183,
   "metadata": {
    "collapsed": false
   },
   "outputs": [
    {
     "data": {
      "text/plain": [
       "<matplotlib.text.Text at 0x268f81d0>"
      ]
     },
     "execution_count": 183,
     "metadata": {},
     "output_type": "execute_result"
    },
    {
     "data": {
      "image/png": "[encoded data removed]",
      "text/plain": [
       "<matplotlib.figure.Figure at 0x26085358>"
      ]
     },
     "metadata": {},
     "output_type": "display_data"
    }
   ],
   "source": [
    "\n",
    "plt.figure(figsize=(12, 6.75), facecolor=\"white\")\n",
    "plt.bar(stat.loc['50%'].index, stat.loc['50%'], color=\"#348ABD\", alpha=0.65,\n",
    "        label=\"Mean throughput of top 60 signers\", align=\"center\")\n",
    "#plt.ylim([150,300])\n",
    "plt.xticks(stat.loc['50%'].index, map(lambda t: str(t), range(2007,2017)))\n",
    "plt.title(\"Median number of touched files by top 60 signers\")"
   ]
  },
  {
   "cell_type": "markdown",
   "metadata": {},
   "source": [
    "# Complexity (#contacts) of top maintainers"
   ]
  },
  {
   "cell_type": "code",
   "execution_count": 184,
   "metadata": {
    "collapsed": true
   },
   "outputs": [],
   "source": [
    "result = {}\n",
    "for year in range(2007, 2017):\n",
    "    selected = commits[commits.committed_datetime.map(lambda t: t.year == year)]\n",
    "    counter = Counter()\n",
    "    maintainer_to_contact = defaultdict(lambda: set())\n",
    "    for idx in selected.index:\n",
    "        row = selected.loc[idx]\n",
    "        msg = row['message']\n",
    "        signers = pattern.findall(msg)\n",
    "        if len(signers) > 1:\n",
    "            for i in range(1, len(signers)):\n",
    "                signer = signers[i]\n",
    "                prev = signers[i - 1]\n",
    "                counter[signer] += 1\n",
    "                maintainer_to_contact[signer].add(prev)\n",
    "    result[year] = pd.Series(map(lambda t: len(maintainer_to_contact[t[0]]), counter.most_common(60)))"
   ]
  },
  {
   "cell_type": "code",
   "execution_count": 185,
   "metadata": {
    "collapsed": false
   },
   "outputs": [
    {
     "data": {
      "text/html": [
       "<div>\n",
       "<style scoped>\n",
       "    .dataframe tbody tr th:only-of-type {\n",
       "        vertical-align: middle;\n",
       "    }\n",
       "\n",
       "    .dataframe tbody tr th {\n",
       "        vertical-align: top;\n",
       "    }\n",
       "\n",
       "    .dataframe thead th {\n",
       "        text-align: right;\n",
       "    }\n",
       "</style>\n",
       "<table border=\"1\" class=\"dataframe\">\n",
       "  <thead>\n",
       "    <tr style=\"text-align: right;\">\n",
       "      <th></th>\n",
       "      <th>2007</th>\n",
       "      <th>2008</th>\n",
       "      <th>2009</th>\n",
       "      <th>2010</th>\n",
       "      <th>2011</th>\n",
       "      <th>2012</th>\n",
       "      <th>2013</th>\n",
       "      <th>2014</th>\n",
       "      <th>2015</th>\n",
       "      <th>2016</th>\n",
       "    </tr>\n",
       "  </thead>\n",
       "  <tbody>\n",
       "    <tr>\n",
       "      <th>count</th>\n",
       "      <td>60.000000</td>\n",
       "      <td>60.000000</td>\n",
       "      <td>60.000000</td>\n",
       "      <td>60.000000</td>\n",
       "      <td>60.000000</td>\n",
       "      <td>60.000000</td>\n",
       "      <td>60.000000</td>\n",
       "      <td>60.000000</td>\n",
       "      <td>60.000000</td>\n",
       "      <td>60.000000</td>\n",
       "    </tr>\n",
       "    <tr>\n",
       "      <th>mean</th>\n",
       "      <td>60.016667</td>\n",
       "      <td>77.466667</td>\n",
       "      <td>79.700000</td>\n",
       "      <td>80.433333</td>\n",
       "      <td>78.633333</td>\n",
       "      <td>85.150000</td>\n",
       "      <td>94.766667</td>\n",
       "      <td>103.000000</td>\n",
       "      <td>107.650000</td>\n",
       "      <td>109.283333</td>\n",
       "    </tr>\n",
       "    <tr>\n",
       "      <th>std</th>\n",
       "      <td>92.160231</td>\n",
       "      <td>99.168316</td>\n",
       "      <td>98.704369</td>\n",
       "      <td>103.015116</td>\n",
       "      <td>98.135321</td>\n",
       "      <td>95.651703</td>\n",
       "      <td>106.452722</td>\n",
       "      <td>122.331725</td>\n",
       "      <td>127.120499</td>\n",
       "      <td>114.475827</td>\n",
       "    </tr>\n",
       "    <tr>\n",
       "      <th>min</th>\n",
       "      <td>6.000000</td>\n",
       "      <td>12.000000</td>\n",
       "      <td>2.000000</td>\n",
       "      <td>1.000000</td>\n",
       "      <td>2.000000</td>\n",
       "      <td>3.000000</td>\n",
       "      <td>7.000000</td>\n",
       "      <td>18.000000</td>\n",
       "      <td>2.000000</td>\n",
       "      <td>9.000000</td>\n",
       "    </tr>\n",
       "    <tr>\n",
       "      <th>25%</th>\n",
       "      <td>19.000000</td>\n",
       "      <td>28.250000</td>\n",
       "      <td>37.000000</td>\n",
       "      <td>36.000000</td>\n",
       "      <td>35.000000</td>\n",
       "      <td>31.750000</td>\n",
       "      <td>48.750000</td>\n",
       "      <td>48.750000</td>\n",
       "      <td>49.000000</td>\n",
       "      <td>61.000000</td>\n",
       "    </tr>\n",
       "    <tr>\n",
       "      <th>50%</th>\n",
       "      <td>35.500000</td>\n",
       "      <td>51.000000</td>\n",
       "      <td>46.000000</td>\n",
       "      <td>46.500000</td>\n",
       "      <td>49.500000</td>\n",
       "      <td>60.000000</td>\n",
       "      <td>65.500000</td>\n",
       "      <td>76.000000</td>\n",
       "      <td>82.500000</td>\n",
       "      <td>88.500000</td>\n",
       "    </tr>\n",
       "    <tr>\n",
       "      <th>75%</th>\n",
       "      <td>62.250000</td>\n",
       "      <td>71.000000</td>\n",
       "      <td>82.250000</td>\n",
       "      <td>80.500000</td>\n",
       "      <td>88.250000</td>\n",
       "      <td>106.000000</td>\n",
       "      <td>94.250000</td>\n",
       "      <td>100.250000</td>\n",
       "      <td>117.250000</td>\n",
       "      <td>108.250000</td>\n",
       "    </tr>\n",
       "    <tr>\n",
       "      <th>max</th>\n",
       "      <td>658.000000</td>\n",
       "      <td>635.000000</td>\n",
       "      <td>535.000000</td>\n",
       "      <td>565.000000</td>\n",
       "      <td>530.000000</td>\n",
       "      <td>505.000000</td>\n",
       "      <td>610.000000</td>\n",
       "      <td>747.000000</td>\n",
       "      <td>787.000000</td>\n",
       "      <td>669.000000</td>\n",
       "    </tr>\n",
       "  </tbody>\n",
       "</table>\n",
       "</div>"
      ],
      "text/plain": [
       "             2007        2008        2009        2010        2011        2012  \\\n",
       "count   60.000000   60.000000   60.000000   60.000000   60.000000   60.000000   \n",
       "mean    60.016667   77.466667   79.700000   80.433333   78.633333   85.150000   \n",
       "std     92.160231   99.168316   98.704369  103.015116   98.135321   95.651703   \n",
       "min      6.000000   12.000000    2.000000    1.000000    2.000000    3.000000   \n",
       "25%     19.000000   28.250000   37.000000   36.000000   35.000000   31.750000   \n",
       "50%     35.500000   51.000000   46.000000   46.500000   49.500000   60.000000   \n",
       "75%     62.250000   71.000000   82.250000   80.500000   88.250000  106.000000   \n",
       "max    658.000000  635.000000  535.000000  565.000000  530.000000  505.000000   \n",
       "\n",
       "             2013        2014        2015        2016  \n",
       "count   60.000000   60.000000   60.000000   60.000000  \n",
       "mean    94.766667  103.000000  107.650000  109.283333  \n",
       "std    106.452722  122.331725  127.120499  114.475827  \n",
       "min      7.000000   18.000000    2.000000    9.000000  \n",
       "25%     48.750000   48.750000   49.000000   61.000000  \n",
       "50%     65.500000   76.000000   82.500000   88.500000  \n",
       "75%     94.250000  100.250000  117.250000  108.250000  \n",
       "max    610.000000  747.000000  787.000000  669.000000  "
      ]
     },
     "execution_count": 185,
     "metadata": {},
     "output_type": "execute_result"
    }
   ],
   "source": [
    "stat = pd.DataFrame(result).describe()\n",
    "stat"
   ]
  },
  {
   "cell_type": "code",
   "execution_count": 187,
   "metadata": {
    "collapsed": false
   },
   "outputs": [
    {
     "data": {
      "text/plain": [
       "<matplotlib.text.Text at 0x42111748>"
      ]
     },
     "execution_count": 187,
     "metadata": {},
     "output_type": "execute_result"
    },
    {
     "data": {
      "image/png": "[encoded data removed]",
      "text/plain": [
       "<matplotlib.figure.Figure at 0x199e4b00>"
      ]
     },
     "metadata": {},
     "output_type": "display_data"
    }
   ],
   "source": [
    "\n",
    "plt.figure(figsize=(12, 6.75), facecolor=\"white\")\n",
    "plt.bar(stat.loc['mean'].index, stat.loc['mean'], color=\"#348ABD\", alpha=0.65,\n",
    "        label=\"Mean throughput of top 60 signers\", align=\"center\")\n",
    "plt.ylim([45,110])\n",
    "plt.xticks(stat.loc['mean'].index, map(lambda t: str(t), range(2007,2017)))\n",
    "plt.title(\"Mean number of contacts by top 60 signers\")"
   ]
  },
  {
   "cell_type": "code",
   "execution_count": 189,
   "metadata": {
    "collapsed": false
   },
   "outputs": [
    {
     "data": {
      "text/plain": [
       "<matplotlib.text.Text at 0xace6ba8>"
      ]
     },
     "execution_count": 189,
     "metadata": {},
     "output_type": "execute_result"
    },
    {
     "data": {
      "image/png": "[encoded data removed]",
      "text/plain": [
       "<matplotlib.figure.Figure at 0x79ebe0b8>"
      ]
     },
     "metadata": {},
     "output_type": "display_data"
    }
   ],
   "source": [
    "\n",
    "plt.figure(figsize=(12, 6.75), facecolor=\"white\")\n",
    "plt.bar(stat.loc['50%'].index, stat.loc['50%'], color=\"#348ABD\", alpha=0.65,\n",
    "        label=\"Mean throughput of top 60 signers\", align=\"center\")\n",
    "plt.ylim([30,90])\n",
    "plt.xticks(stat.loc['50%'].index, map(lambda t: str(t), range(2007,2017)))\n",
    "plt.title(\"Median number of contacts by top 60 signers\")"
   ]
  },
  {
   "cell_type": "markdown",
   "metadata": {},
   "source": [
    "# Latency (author to commit delay) for top maintainers"
   ]
  },
  {
   "cell_type": "code",
   "execution_count": 190,
   "metadata": {
    "collapsed": false
   },
   "outputs": [],
   "source": [
    "result = {}\n",
    "for year in range(2007, 2017):\n",
    "    subset = commits[commits.committed_datetime.map(lambda t: t.year) == year]\n",
    "    committers = subset.committer_name.value_counts()[:60]\n",
    "    arr = []\n",
    "    #for committer in committers.index:\n",
    "        #df = subset[subset.committer_name == committer]\n",
    "        #arr.append((df.committed_datetime - df.authored_datetime).mean())\n",
    "    df = subset[subset.committer_name.isin(committers.index)]\n",
    "    diff = df.committed_datetime - df.authored_datetime\n",
    "    quantiles = diff.quantile([0.01, 0.99])\n",
    "    q_01 = quantiles.loc[0.01]\n",
    "    q_99 = quantiles.loc[0.99]\n",
    "    diff = diff[(diff > q_01) & (diff < q_99)]\n",
    "    #result[year] = arr\n",
    "    result[year] = diff.describe()"
   ]
  },
  {
   "cell_type": "code",
   "execution_count": 191,
   "metadata": {
    "collapsed": false
   },
   "outputs": [
    {
     "data": {
      "text/html": [
       "<div>\n",
       "<style scoped>\n",
       "    .dataframe tbody tr th:only-of-type {\n",
       "        vertical-align: middle;\n",
       "    }\n",
       "\n",
       "    .dataframe tbody tr th {\n",
       "        vertical-align: top;\n",
       "    }\n",
       "\n",
       "    .dataframe thead th {\n",
       "        text-align: right;\n",
       "    }\n",
       "</style>\n",
       "<table border=\"1\" class=\"dataframe\">\n",
       "  <thead>\n",
       "    <tr style=\"text-align: right;\">\n",
       "      <th></th>\n",
       "      <th>2007</th>\n",
       "      <th>2008</th>\n",
       "      <th>2009</th>\n",
       "      <th>2010</th>\n",
       "      <th>2011</th>\n",
       "      <th>2012</th>\n",
       "      <th>2013</th>\n",
       "      <th>2014</th>\n",
       "      <th>2015</th>\n",
       "      <th>2016</th>\n",
       "    </tr>\n",
       "  </thead>\n",
       "  <tbody>\n",
       "    <tr>\n",
       "      <th>count</th>\n",
       "      <td>22917</td>\n",
       "      <td>35004</td>\n",
       "      <td>36631</td>\n",
       "      <td>35079</td>\n",
       "      <td>38000</td>\n",
       "      <td>43726</td>\n",
       "      <td>50626</td>\n",
       "      <td>53928</td>\n",
       "      <td>54910</td>\n",
       "      <td>53954</td>\n",
       "    </tr>\n",
       "    <tr>\n",
       "      <th>mean</th>\n",
       "      <td>13 days 19:31:44.847493</td>\n",
       "      <td>18 days 09:09:02.119129</td>\n",
       "      <td>14 days 03:53:12.427151</td>\n",
       "      <td>14 days 16:07:57.496792</td>\n",
       "      <td>14 days 07:27:09.938000</td>\n",
       "      <td>12 days 20:45:51.142729</td>\n",
       "      <td>10 days 18:02:21.009422</td>\n",
       "      <td>10 days 16:20:54.859590</td>\n",
       "      <td>10 days 21:36:36.292587</td>\n",
       "      <td>11 days 01:37:28.136727</td>\n",
       "    </tr>\n",
       "    <tr>\n",
       "      <th>std</th>\n",
       "      <td>21 days 03:40:17.560204</td>\n",
       "      <td>26 days 01:21:13.032907</td>\n",
       "      <td>21 days 13:44:29.920969</td>\n",
       "      <td>21 days 18:32:23.207048</td>\n",
       "      <td>24 days 03:47:54.962278</td>\n",
       "      <td>22 days 22:02:37.059875</td>\n",
       "      <td>16 days 11:54:26.625958</td>\n",
       "      <td>17 days 06:42:32.429295</td>\n",
       "      <td>16 days 01:58:02.408019</td>\n",
       "      <td>17 days 19:18:00.625550</td>\n",
       "    </tr>\n",
       "    <tr>\n",
       "      <th>min</th>\n",
       "      <td>0 days 00:00:01</td>\n",
       "      <td>0 days 00:00:01</td>\n",
       "      <td>0 days 00:00:01</td>\n",
       "      <td>0 days 00:00:01</td>\n",
       "      <td>0 days 00:00:01</td>\n",
       "      <td>0 days 00:00:01</td>\n",
       "      <td>0 days 00:00:01</td>\n",
       "      <td>0 days 00:00:01</td>\n",
       "      <td>0 days 00:00:02</td>\n",
       "      <td>0 days 00:00:05</td>\n",
       "    </tr>\n",
       "    <tr>\n",
       "      <th>25%</th>\n",
       "      <td>0 days 10:07:18</td>\n",
       "      <td>0 days 13:27:54</td>\n",
       "      <td>0 days 14:15:20</td>\n",
       "      <td>0 days 20:03:54.500000</td>\n",
       "      <td>0 days 18:14:32.750000</td>\n",
       "      <td>0 days 17:01:35.750000</td>\n",
       "      <td>0 days 18:17:52.250000</td>\n",
       "      <td>0 days 15:18:22.250000</td>\n",
       "      <td>0 days 20:37:41</td>\n",
       "      <td>0 days 19:20:44.250000</td>\n",
       "    </tr>\n",
       "    <tr>\n",
       "      <th>50%</th>\n",
       "      <td>2 days 18:08:09</td>\n",
       "      <td>6 days 08:04:39.500000</td>\n",
       "      <td>3 days 09:05:43</td>\n",
       "      <td>4 days 06:59:58</td>\n",
       "      <td>3 days 23:50:06.500000</td>\n",
       "      <td>3 days 19:01:34.500000</td>\n",
       "      <td>3 days 20:13:37.500000</td>\n",
       "      <td>3 days 13:41:58</td>\n",
       "      <td>4 days 03:50:25</td>\n",
       "      <td>3 days 20:02:54.500000</td>\n",
       "    </tr>\n",
       "    <tr>\n",
       "      <th>75%</th>\n",
       "      <td>19 days 04:23:50</td>\n",
       "      <td>26 days 05:43:28</td>\n",
       "      <td>18 days 19:44:30</td>\n",
       "      <td>19 days 02:25:49</td>\n",
       "      <td>16 days 04:03:51.500000</td>\n",
       "      <td>14 days 14:12:13.250000</td>\n",
       "      <td>13 days 15:10:41.500000</td>\n",
       "      <td>13 days 02:35:29.250000</td>\n",
       "      <td>13 days 15:29:28</td>\n",
       "      <td>13 days 06:16:29.500000</td>\n",
       "    </tr>\n",
       "    <tr>\n",
       "      <th>max</th>\n",
       "      <td>120 days 05:57:13</td>\n",
       "      <td>174 days 18:34:59</td>\n",
       "      <td>112 days 15:01:52</td>\n",
       "      <td>127 days 12:19:01</td>\n",
       "      <td>173 days 11:18:14</td>\n",
       "      <td>194 days 22:23:26</td>\n",
       "      <td>118 days 01:33:23</td>\n",
       "      <td>123 days 05:23:59</td>\n",
       "      <td>109 days 21:36:45</td>\n",
       "      <td>137 days 18:13:44</td>\n",
       "    </tr>\n",
       "  </tbody>\n",
       "</table>\n",
       "</div>"
      ],
      "text/plain": [
       "                          2007                     2008  \\\n",
       "count                    22917                    35004   \n",
       "mean   13 days 19:31:44.847493  18 days 09:09:02.119129   \n",
       "std    21 days 03:40:17.560204  26 days 01:21:13.032907   \n",
       "min            0 days 00:00:01          0 days 00:00:01   \n",
       "25%            0 days 10:07:18          0 days 13:27:54   \n",
       "50%            2 days 18:08:09   6 days 08:04:39.500000   \n",
       "75%           19 days 04:23:50         26 days 05:43:28   \n",
       "max          120 days 05:57:13        174 days 18:34:59   \n",
       "\n",
       "                          2009                     2010  \\\n",
       "count                    36631                    35079   \n",
       "mean   14 days 03:53:12.427151  14 days 16:07:57.496792   \n",
       "std    21 days 13:44:29.920969  21 days 18:32:23.207048   \n",
       "min            0 days 00:00:01          0 days 00:00:01   \n",
       "25%            0 days 14:15:20   0 days 20:03:54.500000   \n",
       "50%            3 days 09:05:43          4 days 06:59:58   \n",
       "75%           18 days 19:44:30         19 days 02:25:49   \n",
       "max          112 days 15:01:52        127 days 12:19:01   \n",
       "\n",
       "                          2011                     2012  \\\n",
       "count                    38000                    43726   \n",
       "mean   14 days 07:27:09.938000  12 days 20:45:51.142729   \n",
       "std    24 days 03:47:54.962278  22 days 22:02:37.059875   \n",
       "min            0 days 00:00:01          0 days 00:00:01   \n",
       "25%     0 days 18:14:32.750000   0 days 17:01:35.750000   \n",
       "50%     3 days 23:50:06.500000   3 days 19:01:34.500000   \n",
       "75%    16 days 04:03:51.500000  14 days 14:12:13.250000   \n",
       "max          173 days 11:18:14        194 days 22:23:26   \n",
       "\n",
       "                          2013                     2014  \\\n",
       "count                    50626                    53928   \n",
       "mean   10 days 18:02:21.009422  10 days 16:20:54.859590   \n",
       "std    16 days 11:54:26.625958  17 days 06:42:32.429295   \n",
       "min            0 days 00:00:01          0 days 00:00:01   \n",
       "25%     0 days 18:17:52.250000   0 days 15:18:22.250000   \n",
       "50%     3 days 20:13:37.500000          3 days 13:41:58   \n",
       "75%    13 days 15:10:41.500000  13 days 02:35:29.250000   \n",
       "max          118 days 01:33:23        123 days 05:23:59   \n",
       "\n",
       "                          2015                     2016  \n",
       "count                    54910                    53954  \n",
       "mean   10 days 21:36:36.292587  11 days 01:37:28.136727  \n",
       "std    16 days 01:58:02.408019  17 days 19:18:00.625550  \n",
       "min            0 days 00:00:02          0 days 00:00:05  \n",
       "25%            0 days 20:37:41   0 days 19:20:44.250000  \n",
       "50%            4 days 03:50:25   3 days 20:02:54.500000  \n",
       "75%           13 days 15:29:28  13 days 06:16:29.500000  \n",
       "max          109 days 21:36:45        137 days 18:13:44  "
      ]
     },
     "execution_count": 191,
     "metadata": {},
     "output_type": "execute_result"
    }
   ],
   "source": [
    "stat = pd.DataFrame(result)\n",
    "stat"
   ]
  },
  {
   "cell_type": "code",
   "execution_count": 192,
   "metadata": {
    "collapsed": false
   },
   "outputs": [
    {
     "data": {
      "text/plain": [
       "<matplotlib.text.Text at 0xc2ddef0>"
      ]
     },
     "execution_count": 192,
     "metadata": {},
     "output_type": "execute_result"
    },
    {
     "data": {
      "image/png": "[encoded data removed]",
      "text/plain": [
       "<matplotlib.figure.Figure at 0xbdfecf8>"
      ]
     },
     "metadata": {},
     "output_type": "display_data"
    }
   ],
   "source": [
    "\n",
    "plt.figure(figsize=(12, 6.75), facecolor=\"white\")\n",
    "plt.bar(stat.loc['mean'].index, stat.loc['mean'].map(lambda t: t.delta / (86400 * 1e9)), color=\"#348ABD\", alpha=0.65,\n",
    "        label=\"Mean throughput of top 60 signers\", align=\"center\")\n",
    "#plt.ylim([75,110])\n",
    "plt.xticks(stat.loc['mean'].index, map(lambda t: str(t), range(2007,2017)))\n",
    "plt.title(\"Mean latency\")"
   ]
  },
  {
   "cell_type": "code",
   "execution_count": 194,
   "metadata": {
    "collapsed": false
   },
   "outputs": [
    {
     "data": {
      "image/png": "[encoded data removed]",
      "text/plain": [
       "<matplotlib.figure.Figure at 0x1a4fe518>"
      ]
     },
     "metadata": {},
     "output_type": "display_data"
    }
   ],
   "source": [
    "\n",
    "plt.figure(figsize=(12, 6.75), facecolor=\"white\")\n",
    "plt.bar(stat.loc['50%'].index, stat.loc['50%'].map(lambda t: t.delta / (86400 * 1e9)), color=\"#348ABD\", alpha=0.65,\n",
    "        label=\"Mean throughput of top 60 signers\", align=\"center\")\n",
    "#plt.ylim([75,110])\n",
    "plt.xticks(stat.loc['50%'].index, map(lambda t: str(t), range(2007,2017)))\n",
    "plt.title(\"Median latency\")\n",
    "plt.show()"
   ]
  },
  {
   "cell_type": "code",
   "execution_count": 45,
   "metadata": {
    "collapsed": true
   },
   "outputs": [],
   "source": [
    "# ommitted, same as before"
   ]
  },
  {
   "cell_type": "markdown",
   "metadata": {},
   "source": [
    "So now we can see that, from a micro perspective, the maintainers can indeed experiencing an increasing workload over the years.\n",
    "\n",
    "Daniel Vetter also sees this, and he decides to try group committers model in intel graphics subsystem."
   ]
  },
  {
   "cell_type": "markdown",
   "metadata": {
    "collapsed": true
   },
   "source": [
    "# i915 (intel graphics system) is an actively developed subsystem"
   ]
  },
  {
   "cell_type": "code",
   "execution_count": 102,
   "metadata": {
    "collapsed": true
   },
   "outputs": [],
   "source": [
    "# same as before, omitted"
   ]
  },
  {
   "cell_type": "markdown",
   "metadata": {
    "collapsed": true
   },
   "source": [
    "# Throughput (number/percentage of sign-offs) by the top 2 signers\n",
    "\n",
    "Things are getting tricky after the employment of group committer model.\n",
    "\n",
    "Before the employment of group committer model, like every other part of linux kernel, the author signs a patch and send it to the corresponding maintainer. If the maintainer decides to accept it, another sign-off tag is added and the patch is committed to maintainer's tree.\n",
    "\n",
    "After the employment of group committer, things are getting complicated. A group of about 15 regular contributors are granted commit access to the maintainer's public tree. When a patch is submitted from a regular contributor with commit access, he/she will ask another regular contributor to review the patch. After the review process, the reivewer will add a reviewed-by tag and the author will add a sign-off tag. Now the patch has gone through all the review process, it will be committed with one reviewed-by-tag and one signed-off-tag. When a patch is from an outside contributor, it will go through the same process as that before group committer model. Considering the vast difference of the treatment regarding commits from different contributor, we use a different approach to calculate the throughput of maintainers. For insiders, we count the number of review-by tag as ... For outsiders, we count the number of sign-off tag, just like what we did in previous section."
   ]
  },
  {
   "cell_type": "code",
   "execution_count": 195,
   "metadata": {
    "collapsed": true
   },
   "outputs": [],
   "source": [
    "def isi915(f):\n",
    "    return \"drivers/gpu/drm/i915/\" in f or \"include/drm/i915\" in f or \"include/uapi/drm/i915_drm.h\" in f or \"Documentation/gpu/i915.rst\" in f\n",
    "\n",
    "i915 = commits[commits.files.map(isi915)]"
   ]
  },
  {
   "cell_type": "code",
   "execution_count": 210,
   "metadata": {
    "collapsed": false
   },
   "outputs": [],
   "source": [
    "result = {}\n",
    "log = {}\n",
    "for year in range(2013, 2018):\n",
    "    for month in range(1, 13):\n",
    "        if year == 2017 and month == 7:\n",
    "            break\n",
    "        selected = i915[i915.committed_datetime.map(lambda t: t.year == year and t.month == month)]\n",
    "        counter = Counter()\n",
    "        if (year,month) < (2015,10):\n",
    "            for msg in selected.message:\n",
    "                signers = pattern.findall(msg)\n",
    "                if len(signers) > 1:\n",
    "                    for signer in signers[1:]:\n",
    "                        counter[signer] += 1\n",
    "        else:\n",
    "            for index in selected.index:\n",
    "                row = selected.loc[index]\n",
    "                author = row.author_name\n",
    "                committer = row.committer_name\n",
    "                msg = row.message\n",
    "                if author == committer:\n",
    "                    reviewers = review_pattern.findall(msg)\n",
    "                    for reviewer in reviewers:\n",
    "                        counter[reviewer] += 1\n",
    "                else:\n",
    "                    signers = pattern.findall(msg)\n",
    "                    if len(signers) > 1:\n",
    "                        for signer in signers[1:]:\n",
    "                            counter[signer] += 1\n",
    "\n",
    "        sorted_count = pd.Series(map(lambda t: t[1], counter.most_common()))\n",
    "        log[(year,month)] = sorted_count\n",
    "        result[(year, month)] = (sorted_count[:2].sum(), sorted_count[:2].sum() * 1.0 / sorted_count.sum(), sorted_count.sum())\n",
    "        "
   ]
  },
  {
   "cell_type": "code",
   "execution_count": 211,
   "metadata": {
    "collapsed": false
   },
   "outputs": [],
   "source": [
    "stat = pd.DataFrame(result, index=['top2_count', 'top2_ratio', 'total']).T\n",
    "stat.to_pickle('i915_throughput.pkl')"
   ]
  },
  {
   "cell_type": "code",
   "execution_count": 212,
   "metadata": {
    "collapsed": false
   },
   "outputs": [
    {
     "data": {
      "text/html": [
       "<div>\n",
       "<style scoped>\n",
       "    .dataframe tbody tr th:only-of-type {\n",
       "        vertical-align: middle;\n",
       "    }\n",
       "\n",
       "    .dataframe tbody tr th {\n",
       "        vertical-align: top;\n",
       "    }\n",
       "\n",
       "    .dataframe thead th {\n",
       "        text-align: right;\n",
       "    }\n",
       "</style>\n",
       "<table border=\"1\" class=\"dataframe\">\n",
       "  <thead>\n",
       "    <tr style=\"text-align: right;\">\n",
       "      <th></th>\n",
       "      <th></th>\n",
       "      <th>top2_count</th>\n",
       "      <th>top2_ratio</th>\n",
       "      <th>total</th>\n",
       "    </tr>\n",
       "  </thead>\n",
       "  <tbody>\n",
       "    <tr>\n",
       "      <th rowspan=\"5\" valign=\"top\">2013</th>\n",
       "      <th>1</th>\n",
       "      <td>93.0</td>\n",
       "      <td>0.968750</td>\n",
       "      <td>96.0</td>\n",
       "    </tr>\n",
       "    <tr>\n",
       "      <th>2</th>\n",
       "      <td>43.0</td>\n",
       "      <td>0.977273</td>\n",
       "      <td>44.0</td>\n",
       "    </tr>\n",
       "    <tr>\n",
       "      <th>3</th>\n",
       "      <td>101.0</td>\n",
       "      <td>0.971154</td>\n",
       "      <td>104.0</td>\n",
       "    </tr>\n",
       "    <tr>\n",
       "      <th>4</th>\n",
       "      <td>124.0</td>\n",
       "      <td>0.879433</td>\n",
       "      <td>141.0</td>\n",
       "    </tr>\n",
       "    <tr>\n",
       "      <th>5</th>\n",
       "      <td>121.0</td>\n",
       "      <td>0.975806</td>\n",
       "      <td>124.0</td>\n",
       "    </tr>\n",
       "  </tbody>\n",
       "</table>\n",
       "</div>"
      ],
      "text/plain": [
       "        top2_count  top2_ratio  total\n",
       "2013 1        93.0    0.968750   96.0\n",
       "     2        43.0    0.977273   44.0\n",
       "     3       101.0    0.971154  104.0\n",
       "     4       124.0    0.879433  141.0\n",
       "     5       121.0    0.975806  124.0"
      ]
     },
     "execution_count": 212,
     "metadata": {},
     "output_type": "execute_result"
    }
   ],
   "source": [
    "stat.head()"
   ]
  },
  {
   "cell_type": "code",
   "execution_count": 213,
   "metadata": {
    "collapsed": false
   },
   "outputs": [
    {
     "data": {
      "image/png": "[encoded data removed]",
      "text/plain": [
       "<matplotlib.figure.Figure at 0x2617f8d0>"
      ]
     },
     "metadata": {},
     "output_type": "display_data"
    }
   ],
   "source": [
    "#stat['top2_count'].plot('bar', color='blue', figsize=(16,9)) # top 2 signers count\n",
    "\n",
    "plt.figure(figsize=(12, 6.75), facecolor=\"white\")\n",
    "plt.bar(range(len(stat['top2_count'])), stat['top2_count'], color=\"#348ABD\", alpha=0.65,\n",
    "            label=\"#commits by top 2 committers\", align=\"center\")\n",
    "#plt.ylim([75,110])\n",
    "plt.xticks(range(len(stat['top2_count'])), stat['top2_count'].index.map(lambda t: str(t[0]) + \".\" + str(t[1]) if t[1] % 6 == 1 else \"\"))\n",
    "plt.xlim([-0.5, len(stat['top2_count'])])\n",
    "plt.title(\"#commits by top 2 committers\")\n",
    "plt.show()"
   ]
  },
  {
   "cell_type": "code",
   "execution_count": 214,
   "metadata": {
    "collapsed": false
   },
   "outputs": [
    {
     "data": {
      "image/png": "[encoded data removed]",
      "text/plain": [
       "<matplotlib.figure.Figure at 0x18104128>"
      ]
     },
     "metadata": {},
     "output_type": "display_data"
    }
   ],
   "source": [
    "\n",
    "plt.figure(figsize=(12, 6.75), facecolor=\"white\")\n",
    "plt.bar(range(len(stat['top2_ratio'])), stat['top2_ratio'], color=\"#348ABD\", alpha=0.65,\n",
    "            label=\"#commits by top 2 committers\", align=\"center\")\n",
    "#plt.ylim([75,110])\n",
    "plt.xticks(range(len(stat['top2_ratio'])), stat['top2_ratio'].index.map(lambda t: str(t[0]) + \".\" + str(t[1]) if t[1] % 6 == 1 else \"\"))\n",
    "plt.xlim([-0.5, len(stat['top2_ratio'])])\n",
    "plt.title(\"%commits by top 2 committers\")\n",
    "plt.show()"
   ]
  },
  {
   "cell_type": "code",
   "execution_count": 215,
   "metadata": {
    "collapsed": false
   },
   "outputs": [
    {
     "data": {
      "image/png": "[encoded data removed]",
      "text/plain": [
       "<matplotlib.figure.Figure at 0x77f45a20>"
      ]
     },
     "metadata": {},
     "output_type": "display_data"
    }
   ],
   "source": [
    "#stat['top2_count'].plot('bar', color='blue', figsize=(16,9)) # top 2 signers count\n",
    "\n",
    "plt.figure(figsize=(12, 6.75), facecolor=\"white\")\n",
    "plt.bar(range(len(stat['total'])), stat['total'], color=\"#348ABD\", alpha=0.65,\n",
    "            label=\"#commits\", align=\"center\")\n",
    "#plt.ylim([75,110])\n",
    "plt.xticks(range(len(stat['total'])), stat['total'].index.map(lambda t: str(t[0]) + \".\" + str(t[1]) if t[1] % 6 == 1 else \"\"))\n",
    "plt.xlim([-0.5, len(stat['total'])])\n",
    "plt.title(\"#commits\")\n",
    "plt.show()"
   ]
  },
  {
   "cell_type": "markdown",
   "metadata": {},
   "source": [
    "# Latency comparison"
   ]
  },
  {
   "cell_type": "code",
   "execution_count": null,
   "metadata": {
    "collapsed": true
   },
   "outputs": [],
   "source": [
    "# Omitted, same as before"
   ]
  },
  {
   "cell_type": "markdown",
   "metadata": {},
   "source": [
    "# Pressure comparison"
   ]
  },
  {
   "cell_type": "code",
   "execution_count": 118,
   "metadata": {
    "collapsed": true
   },
   "outputs": [],
   "source": [
    "# Omitted, same as before"
   ]
  },
  {
   "cell_type": "markdown",
   "metadata": {},
   "source": [
    "# Complexity (file count)"
   ]
  },
  {
   "cell_type": "code",
   "execution_count": 16,
   "metadata": {
    "collapsed": true
   },
   "outputs": [],
   "source": [
    "result = {}\n",
    "log = {}\n",
    "for year in range(2013, 2018):\n",
    "    for month in range(1, 13):\n",
    "        if year == 2017 and month == 6:\n",
    "            break\n",
    "        selected = i915[i915.committed_datetime.map(lambda t: t.year == year and t.month == month)]\n",
    "        dev_to_file = defaultdict(lambda: set())\n",
    "        if (year,month) < (2015,10):\n",
    "            for index in selected.index:\n",
    "                row = selected.loc[index]\n",
    "                msg = row.message\n",
    "                files = row.files.split(',')\n",
    "                if len(files) > 65:\n",
    "                    continue\n",
    "                signers = pattern.findall(msg)\n",
    "                if len(signers) > 1:\n",
    "                    for signer in signers[1:]:\n",
    "                        for f in files:\n",
    "                            dev_to_file[signer].add(f)\n",
    "        else:\n",
    "            for index in selected.index:\n",
    "                row = selected.loc[index]\n",
    "                author = row.author_name\n",
    "                committer = row.committer_name\n",
    "                msg = row.message\n",
    "                files = row.files.split(',')\n",
    "                if len(files) > 65:\n",
    "                    continue\n",
    "                if author == committer:\n",
    "                    reviewers = review_pattern.findall(msg)\n",
    "                    for reviewer in reviewers:\n",
    "                        for f in files:\n",
    "                            dev_to_file[reviewer].add(f)\n",
    "                else:\n",
    "                    signers = pattern.findall(msg)\n",
    "                    if len(signers) > 1:\n",
    "                        for signer in signers[1:]:\n",
    "                            for f in files:\n",
    "                                dev_to_file[signer].add(f)\n",
    "        \n",
    "        each_file_count = map(lambda s: len(s), dev_to_file.values())\n",
    "        log[(year,month)] = dev_to_file\n",
    "        result[(year, month)] = pd.Series(each_file_count).describe()\n",
    "        "
   ]
  },
  {
   "cell_type": "code",
   "execution_count": 17,
   "metadata": {
    "collapsed": true
   },
   "outputs": [],
   "source": [
    "pd.DataFrame(result).T.to_pickle('i915_files.pickle')"
   ]
  },
  {
   "cell_type": "code",
   "execution_count": 133,
   "metadata": {
    "collapsed": false
   },
   "outputs": [
    {
     "data": {
      "text/plain": [
       "<matplotlib.axes._subplots.AxesSubplot at 0x28671e10>"
      ]
     },
     "execution_count": 133,
     "metadata": {},
     "output_type": "execute_result"
    },
    {
     "data": {
      "image/png": "[encoded data removed]",
      "text/plain": [
       "<matplotlib.figure.Figure at 0x1e7ea320>"
      ]
     },
     "metadata": {},
     "output_type": "display_data"
    }
   ],
   "source": [
    "pd.DataFrame(result).T['mean'].plot('bar', color='blue',figsize=(16,9))"
   ]
  },
  {
   "cell_type": "code",
   "execution_count": 136,
   "metadata": {
    "collapsed": false
   },
   "outputs": [
    {
     "data": {
      "text/plain": [
       "<matplotlib.axes._subplots.AxesSubplot at 0x257b8208>"
      ]
     },
     "execution_count": 136,
     "metadata": {},
     "output_type": "execute_result"
    },
    {
     "data": {
      "image/png": "[encoded data removed]",
      "text/plain": [
       "<matplotlib.figure.Figure at 0x26199358>"
      ]
     },
     "metadata": {},
     "output_type": "display_data"
    }
   ],
   "source": [
    "pd.DataFrame(result).T['50%'].plot('bar', color='blue',figsize=(16,9))"
   ]
  },
  {
   "cell_type": "code",
   "execution_count": 134,
   "metadata": {
    "collapsed": false
   },
   "outputs": [
    {
     "data": {
      "text/plain": [
       "<matplotlib.axes._subplots.AxesSubplot at 0x26202080>"
      ]
     },
     "execution_count": 134,
     "metadata": {},
     "output_type": "execute_result"
    },
    {
     "data": {
      "image/png": "[encoded data removed]",
      "text/plain": [
       "<matplotlib.figure.Figure at 0x22d73630>"
      ]
     },
     "metadata": {},
     "output_type": "display_data"
    }
   ],
   "source": [
    "pd.DataFrame(result).T['max'].plot('bar', color='blue',figsize=(16,9))"
   ]
  },
  {
   "cell_type": "markdown",
   "metadata": {},
   "source": [
    "# Complexity (author count)"
   ]
  },
  {
   "cell_type": "code",
   "execution_count": 13,
   "metadata": {
    "collapsed": false
   },
   "outputs": [],
   "source": [
    "result = {}\n",
    "log = {}\n",
    "for year in range(2013, 2018):\n",
    "    for month in range(1, 13):\n",
    "        if year == 2017 and month == 6:\n",
    "            break\n",
    "        selected = i915[i915.committed_datetime.map(lambda t: t.year == year and t.month == month)]\n",
    "        dev_to_prev = defaultdict(lambda: set())\n",
    "        if (year,month) < (2015,10):\n",
    "            for index in selected.index:\n",
    "                row = selected.loc[index]\n",
    "                msg = row.message\n",
    "                files = row.files\n",
    "                if len(files) > 65:\n",
    "                    continue\n",
    "                signers = pattern.findall(msg)\n",
    "                for i in range(1, len(signers)):\n",
    "                    dev_to_prev[signers[i]].add(signers[i-1])\n",
    "\n",
    "        else:\n",
    "            for index in selected.index:\n",
    "                row = selected.loc[index]\n",
    "                author = row.author_name\n",
    "                committer = row.committer_name\n",
    "                msg = row.message\n",
    "                files = row.files\n",
    "                if len(files) > 65:\n",
    "                    continue\n",
    "                if author == committer:\n",
    "                    reviewers = review_pattern.findall(msg)\n",
    "                    for reviewer in reviewers:\n",
    "                        dev_to_prev[reviewer].add(author)\n",
    "                else:\n",
    "                    signers = pattern.findall(msg)\n",
    "                    for i in range(1, len(signers)):\n",
    "                        dev_to_prev[signers[i]].add(signers[i-1])\n",
    "        \n",
    "        counts = map(lambda s: len(s), dev_to_prev.values())\n",
    "        log[(year,month)] = dev_to_prev\n",
    "        result[(year, month)] = pd.Series(counts).describe()\n",
    "        "
   ]
  },
  {
   "cell_type": "code",
   "execution_count": 15,
   "metadata": {
    "collapsed": false
   },
   "outputs": [],
   "source": [
    "pd.DataFrame(result).T.to_pickle('i915_author.pickle')"
   ]
  },
  {
   "cell_type": "code",
   "execution_count": 174,
   "metadata": {
    "collapsed": false
   },
   "outputs": [
    {
     "data": {
      "text/plain": [
       "<matplotlib.axes._subplots.AxesSubplot at 0xc4a2a58>"
      ]
     },
     "execution_count": 174,
     "metadata": {},
     "output_type": "execute_result"
    },
    {
     "data": {
      "image/png": "[encoded data removed]",
      "text/plain": [
       "<matplotlib.figure.Figure at 0x16380240>"
      ]
     },
     "metadata": {},
     "output_type": "display_data"
    }
   ],
   "source": [
    "pd.DataFrame(result).T['mean'].plot('bar', color='blue',figsize=(16,9))"
   ]
  },
  {
   "cell_type": "code",
   "execution_count": 139,
   "metadata": {
    "collapsed": false
   },
   "outputs": [
    {
     "data": {
      "text/plain": [
       "<matplotlib.axes._subplots.AxesSubplot at 0x24ac0588>"
      ]
     },
     "execution_count": 139,
     "metadata": {},
     "output_type": "execute_result"
    },
    {
     "data": {
      "image/png": "[encoded data removed]",
      "text/plain": [
       "<matplotlib.figure.Figure at 0x24aaca20>"
      ]
     },
     "metadata": {},
     "output_type": "display_data"
    }
   ],
   "source": [
    "pd.DataFrame(result).T['max'].plot('bar', color='blue',figsize=(16,9))"
   ]
  },
  {
   "cell_type": "markdown",
   "metadata": {},
   "source": [
    "# Truck factor"
   ]
  },
  {
   "cell_type": "code",
   "execution_count": 18,
   "metadata": {
    "collapsed": true
   },
   "outputs": [],
   "source": [
    "result = {}\n",
    "log = {}\n",
    "for year in range(2013, 2018):\n",
    "    for month in range(1, 13):\n",
    "        if year == 2017 and month == 6:\n",
    "            break\n",
    "        selected = i915[i915.committed_datetime.map(lambda t: t.year == year and t.month == month)]\n",
    "        result[(year, month)] = selected.committed_datetime.map(lambda t: t.day).value_counts().describe()"
   ]
  },
  {
   "cell_type": "code",
   "execution_count": 20,
   "metadata": {
    "collapsed": false
   },
   "outputs": [],
   "source": [
    "pd.DataFrame(result).T.to_pickle('i915_active_day.pickle')"
   ]
  },
  {
   "cell_type": "code",
   "execution_count": 150,
   "metadata": {
    "collapsed": false
   },
   "outputs": [
    {
     "data": {
      "text/plain": [
       "<matplotlib.axes._subplots.AxesSubplot at 0x1856c4a8>"
      ]
     },
     "execution_count": 150,
     "metadata": {},
     "output_type": "execute_result"
    },
    {
     "data": {
      "image/png": "[encoded data removed]",
      "text/plain": [
       "<matplotlib.figure.Figure at 0x185bf6d8>"
      ]
     },
     "metadata": {},
     "output_type": "display_data"
    }
   ],
   "source": [
    "pd.DataFrame(result).T['count'].plot('bar', color='blue', figsize=(16,9)) # number of days with a commit"
   ]
  },
  {
   "cell_type": "code",
   "execution_count": 172,
   "metadata": {
    "collapsed": false
   },
   "outputs": [
    {
     "data": {
      "text/plain": [
       "<matplotlib.axes._subplots.AxesSubplot at 0x2aeb2320>"
      ]
     },
     "execution_count": 172,
     "metadata": {},
     "output_type": "execute_result"
    },
    {
     "data": {
      "image/png": "[encoded data removed]",
      "text/plain": [
       "<matplotlib.figure.Figure at 0x15ca03c8>"
      ]
     },
     "metadata": {},
     "output_type": "display_data"
    }
   ],
   "source": [
    "pd.DataFrame(result).T['mean'].plot('bar', color='blue', figsize=(16,9)) # number of commits per day"
   ]
  },
  {
   "cell_type": "markdown",
   "metadata": {},
   "source": [
    "For intel graphics:\n",
    "\n",
    "+ Lower throughput for individuals, higher throughput overall\n",
    "+ Lower latency\n",
    "+ Lower pressure\n",
    "+ Lower complexity\n",
    "+ More active days\n",
    "\n",
    "AMD graphics subsystem is similar system compared to intel graphics subsystem. We try to compare these two subsystems in the same period to better understand the effects of group committer model.\n"
   ]
  },
  {
   "cell_type": "code",
   "execution_count": 176,
   "metadata": {
    "collapsed": true
   },
   "outputs": [],
   "source": [
    "# throughput"
   ]
  },
  {
   "cell_type": "code",
   "execution_count": null,
   "metadata": {
    "collapsed": true
   },
   "outputs": [],
   "source": []
  },
  {
   "cell_type": "code",
   "execution_count": 177,
   "metadata": {
    "collapsed": true
   },
   "outputs": [],
   "source": [
    "# latency"
   ]
  },
  {
   "cell_type": "code",
   "execution_count": null,
   "metadata": {
    "collapsed": true
   },
   "outputs": [],
   "source": []
  },
  {
   "cell_type": "code",
   "execution_count": 178,
   "metadata": {
    "collapsed": true
   },
   "outputs": [],
   "source": [
    "# pressure"
   ]
  },
  {
   "cell_type": "code",
   "execution_count": null,
   "metadata": {
    "collapsed": true
   },
   "outputs": [],
   "source": []
  },
  {
   "cell_type": "code",
   "execution_count": 179,
   "metadata": {
    "collapsed": true
   },
   "outputs": [],
   "source": [
    "# complexity"
   ]
  },
  {
   "cell_type": "code",
   "execution_count": null,
   "metadata": {
    "collapsed": true
   },
   "outputs": [],
   "source": []
  },
  {
   "cell_type": "markdown",
   "metadata": {},
   "source": [
    "# Finally\n",
    "\n",
    "Why it works?"
   ]
  },
  {
   "cell_type": "code",
   "execution_count": 180,
   "metadata": {
    "collapsed": true
   },
   "outputs": [],
   "source": [
    "## Company distribution"
   ]
  },
  {
   "cell_type": "code",
   "execution_count": null,
   "metadata": {
    "collapsed": true
   },
   "outputs": [],
   "source": []
  },
  {
   "cell_type": "code",
   "execution_count": 181,
   "metadata": {
    "collapsed": true
   },
   "outputs": [],
   "source": [
    "## Multiple devs on one file"
   ]
  },
  {
   "cell_type": "code",
   "execution_count": null,
   "metadata": {
    "collapsed": true
   },
   "outputs": [],
   "source": []
  },
  {
   "cell_type": "code",
   "execution_count": null,
   "metadata": {
    "collapsed": true
   },
   "outputs": [],
   "source": []
  },
  {
   "cell_type": "markdown",
   "metadata": {},
   "source": [
    "# Visualization\n",
    "\n",
    "Visualize the following elements:\n",
    "+ Throughput (Overall / Top n) (Count / Ratio)\n",
    "+ Latency (Overall / Top n)\n",
    "+ Pressure (Overall / Top n)\n",
    "+ Complexity (Mean / Max)"
   ]
  }
 ],
 "metadata": {
  "anaconda-cloud": {},
  "kernelspec": {
   "display_name": "Python [Root]",
   "language": "python",
   "name": "Python [Root]"
  },
  "language_info": {
   "codemirror_mode": {
    "name": "ipython",
    "version": 2
   },
   "file_extension": ".py",
   "mimetype": "text/x-python",
   "name": "python",
   "nbconvert_exporter": "python",
   "pygments_lexer": "ipython2",
   "version": "2.7.11"
  }
 },
 "nbformat": 4,
 "nbformat_minor": 0
}
