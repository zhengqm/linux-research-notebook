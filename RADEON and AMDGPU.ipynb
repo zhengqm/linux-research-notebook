{
 "cells": [
  {
   "cell_type": "code",
   "execution_count": 1,
   "metadata": {
    "collapsed": true
   },
   "outputs": [],
   "source": [
    "import pandas as pd\n",
    "import matplotlib.pyplot as plt\n",
    "%matplotlib inline"
   ]
  },
  {
   "cell_type": "code",
   "execution_count": 2,
   "metadata": {
    "collapsed": true
   },
   "outputs": [],
   "source": [
    "commits = pd.read_pickle(\"commits.pkl\")"
   ]
  },
  {
   "cell_type": "code",
   "execution_count": 3,
   "metadata": {
    "collapsed": true
   },
   "outputs": [],
   "source": [
    "def isAMD(f):\n",
    "    return \"drivers/gpu/drm/radeon/\" in f or \"include/uapi/drm/radeon_drm.h\" in f or \"drivers/gpu/drm/amd/\" in f or \"include/uapi/drm/amdgpu_drm.h\" in f"
   ]
  },
  {
   "cell_type": "code",
   "execution_count": 4,
   "metadata": {
    "collapsed": true
   },
   "outputs": [],
   "source": [
    "commits['isAMD'] = commits.files.map(isAMD)"
   ]
  },
  {
   "cell_type": "code",
   "execution_count": 5,
   "metadata": {
    "collapsed": true
   },
   "outputs": [],
   "source": [
    "selected = commits[commits.isAMD]"
   ]
  },
  {
   "cell_type": "code",
   "execution_count": 49,
   "metadata": {
    "collapsed": false
   },
   "outputs": [
    {
     "name": "stdout",
     "output_type": "stream",
     "text": [
      "2013 1\n",
      "Alex Deucher     0.92\n",
      "Daniel Vetter    0.04\n",
      "Name: committer_name, dtype: float64\n",
      "2013 2\n",
      "Alex Deucher    0.65\n",
      "Dave Airlie     0.15\n",
      "Name: committer_name, dtype: float64\n",
      "2013 3\n",
      "Alex Deucher    0.9\n",
      "Jiri Kosina     0.1\n",
      "Name: committer_name, dtype: float64\n",
      "2013 4\n",
      "Alex Deucher     0.983333\n",
      "Bjorn Helgaas    0.016667\n",
      "Name: committer_name, dtype: float64\n",
      "2013 5\n",
      "Alex Deucher    0.84375\n",
      "Dave Airlie     0.12500\n",
      "Name: committer_name, dtype: float64\n",
      "2013 6\n",
      "Alex Deucher    0.977273\n",
      "Dave Airlie     0.022727\n",
      "Name: committer_name, dtype: float64\n",
      "2013 7\n",
      "Alex Deucher    0.942529\n",
      "Dave Airlie     0.045977\n",
      "Name: committer_name, dtype: float64\n",
      "2013 8\n",
      "Alex Deucher    0.915493\n",
      "Dave Airlie     0.077465\n",
      "Name: committer_name, dtype: float64\n",
      "2013 9\n",
      "Alex Deucher    0.961538\n",
      "Dave Airlie     0.038462\n",
      "Name: committer_name, dtype: float64\n",
      "2013 10\n",
      "Alex Deucher    0.827586\n",
      "Dave Airlie     0.137931\n",
      "Name: committer_name, dtype: float64\n",
      "2013 11\n",
      "Alex Deucher    0.935065\n",
      "Dave Airlie     0.038961\n",
      "Name: committer_name, dtype: float64\n",
      "2013 12\n",
      "Alex Deucher    0.838710\n",
      "Dave Airlie     0.112903\n",
      "Name: committer_name, dtype: float64\n",
      "2014 1\n",
      "Alex Deucher     0.890625\n",
      "Ville Syrjälä    0.062500\n",
      "Name: committer_name, dtype: float64\n",
      "2014 2\n",
      "Christian König    0.478261\n",
      "Alex Deucher       0.478261\n",
      "Name: committer_name, dtype: float64\n",
      "2014 3\n",
      "Christian König    0.600000\n",
      "Alex Deucher       0.285714\n",
      "Name: committer_name, dtype: float64\n",
      "2014 4\n",
      "Christian König    0.842105\n",
      "Daniel Vetter      0.105263\n",
      "Name: committer_name, dtype: float64\n",
      "2014 5\n",
      "Christian König    0.967742\n",
      "Dave Airlie        0.032258\n",
      "Name: committer_name, dtype: float64\n",
      "2014 6\n",
      "Alex Deucher    0.796610\n",
      "Dave Airlie     0.135593\n",
      "Name: committer_name, dtype: float64\n",
      "2014 7\n",
      "Alex Deucher    0.584906\n",
      "Oded Gabbay     0.320755\n",
      "Name: committer_name, dtype: float64\n",
      "2014 8\n",
      "Alex Deucher       0.980583\n",
      "Christian König    0.009709\n",
      "Name: committer_name, dtype: float64\n",
      "2014 9\n",
      "Alex Deucher    0.551020\n",
      "Dave Airlie     0.163265\n",
      "Name: committer_name, dtype: float64\n",
      "2014 10\n",
      "Alex Deucher    0.941176\n",
      "Oded Gabbay     0.058824\n",
      "Name: committer_name, dtype: float64\n",
      "2014 11\n",
      "Alex Deucher    0.666667\n",
      "Oded Gabbay     0.283951\n",
      "Name: committer_name, dtype: float64\n",
      "2014 12\n",
      "Alex Deucher    0.59375\n",
      "Oded Gabbay     0.37500\n",
      "Name: committer_name, dtype: float64\n",
      "2015 1\n",
      "Alex Deucher    0.508475\n",
      "Oded Gabbay     0.483051\n",
      "Name: committer_name, dtype: float64\n",
      "2015 2\n",
      "Alex Deucher    0.807692\n",
      "Oded Gabbay     0.192308\n",
      "Name: committer_name, dtype: float64\n",
      "2015 3\n",
      "Alex Deucher    0.887324\n",
      "Oded Gabbay     0.112676\n",
      "Name: committer_name, dtype: float64\n",
      "2015 4\n",
      "Alex Deucher     0.85\n",
      "Daniel Vetter    0.10\n",
      "Name: committer_name, dtype: float64\n",
      "2015 5\n",
      "Alex Deucher    0.66\n",
      "Oded Gabbay     0.32\n",
      "Name: committer_name, dtype: float64\n",
      "2015 6\n",
      "Alex Deucher    0.881720\n",
      "Oded Gabbay     0.107527\n",
      "Name: committer_name, dtype: float64\n",
      "2015 7\n",
      "Alex Deucher    0.693548\n",
      "Oded Gabbay     0.258065\n",
      "Name: committer_name, dtype: float64\n",
      "2015 8\n",
      "Alex Deucher     0.978723\n",
      "Daniel Vetter    0.010638\n",
      "Name: committer_name, dtype: float64\n",
      "2015 9\n",
      "Alex Deucher     0.924242\n",
      "Daniel Vetter    0.075758\n",
      "Name: committer_name, dtype: float64\n",
      "2015 10\n",
      "Alex Deucher     0.940594\n",
      "Daniel Vetter    0.029703\n",
      "Name: committer_name, dtype: float64\n",
      "2015 11\n",
      "Alex Deucher     0.967742\n",
      "Daniel Vetter    0.032258\n",
      "Name: committer_name, dtype: float64\n",
      "2015 12\n",
      "Alex Deucher     0.976331\n",
      "Daniel Vetter    0.011834\n",
      "Name: committer_name, dtype: float64\n",
      "2016 1\n",
      "Alex Deucher    0.893939\n",
      "Dave Airlie     0.030303\n",
      "Name: committer_name, dtype: float64\n",
      "2016 2\n",
      "Alex Deucher     0.939891\n",
      "Daniel Vetter    0.027322\n",
      "Name: committer_name, dtype: float64\n",
      "2016 3\n",
      "Alex Deucher      0.957265\n",
      "Linus Torvalds    0.017094\n",
      "Name: committer_name, dtype: float64\n",
      "2016 4\n",
      "Alex Deucher    0.888889\n",
      "Oded Gabbay     0.066667\n",
      "Name: committer_name, dtype: float64\n",
      "2016 5\n",
      "Alex Deucher     0.948819\n",
      "Daniel Vetter    0.027559\n",
      "Name: committer_name, dtype: float64\n",
      "2016 6\n",
      "Alex Deucher     0.728395\n",
      "Daniel Vetter    0.209877\n",
      "Name: committer_name, dtype: float64\n",
      "2016 7\n",
      "Alex Deucher    0.992674\n",
      "Oded Gabbay     0.007326\n",
      "Name: committer_name, dtype: float64\n",
      "2016 8\n",
      "Alex Deucher     0.975309\n",
      "Daniel Vetter    0.020576\n",
      "Name: committer_name, dtype: float64\n",
      "2016 9\n",
      "Alex Deucher    0.953846\n",
      "Oded Gabbay     0.030769\n",
      "Name: committer_name, dtype: float64\n",
      "2016 10\n",
      "Alex Deucher     0.954802\n",
      "Daniel Vetter    0.016949\n",
      "Name: committer_name, dtype: float64\n",
      "2016 11\n",
      "Alex Deucher     0.921053\n",
      "Daniel Vetter    0.065789\n",
      "Name: committer_name, dtype: float64\n",
      "2016 12\n",
      "Alex Deucher     0.792208\n",
      "Ville Syrjälä    0.077922\n",
      "Name: committer_name, dtype: float64\n",
      "2017 1\n",
      "Alex Deucher     0.947712\n",
      "Daniel Vetter    0.039216\n",
      "Name: committer_name, dtype: float64\n",
      "2017 2\n",
      "Alex Deucher      0.839286\n",
      "Linus Torvalds    0.089286\n",
      "Name: committer_name, dtype: float64\n",
      "2017 3\n",
      "Alex Deucher    0.970238\n",
      "Ingo Molnar     0.011905\n",
      "Name: committer_name, dtype: float64\n",
      "2017 4\n",
      "Alex Deucher     0.994012\n",
      "Daniel Vetter    0.005988\n",
      "Name: committer_name, dtype: float64\n",
      "2017 5\n",
      "Alex Deucher     0.966667\n",
      "Daniel Vetter    0.021212\n",
      "Name: committer_name, dtype: float64\n",
      "2017 6\n",
      "Alex Deucher     0.937500\n",
      "Daniel Vetter    0.023438\n",
      "Name: committer_name, dtype: float64\n"
     ]
    }
   ],
   "source": [
    "result = {}\n",
    "for year in range(2013,2018):\n",
    "    for month in range(1,13):\n",
    "        subset = selected[selected.committed_datetime.map(lambda t: t.year * 1000 + t.month) == (year * 1000 + month)]\n",
    "        if year == 2017 and month > 6:\n",
    "            break\n",
    "        print year, month\n",
    "        print subset.committer_name.value_counts(normalize=True)[:2]\n",
    "        result[(year,month)] = subset.committer_name.value_counts(normalize=True)[:2].sum()"
   ]
  },
  {
   "cell_type": "code",
   "execution_count": 50,
   "metadata": {
    "collapsed": false
   },
   "outputs": [
    {
     "data": {
      "text/plain": [
       "<matplotlib.axes._subplots.AxesSubplot at 0xb8506a0>"
      ]
     },
     "execution_count": 50,
     "metadata": {},
     "output_type": "execute_result"
    },
    {
     "data": {
      "image/png": "[encoded data removed]",
      "text/plain": [
       "<matplotlib.figure.Figure at 0x1212f860>"
      ]
     },
     "metadata": {},
     "output_type": "display_data"
    }
   ],
   "source": [
    "plt.figure(facecolor=\"white\")\n",
    "s = pd.Series(result)\n",
    "s.plot('bar', figsize=(16,9), color='blue')"
   ]
  },
  {
   "cell_type": "code",
   "execution_count": 51,
   "metadata": {
    "collapsed": false
   },
   "outputs": [
    {
     "name": "stdout",
     "output_type": "stream",
     "text": [
      "count    32.000000\n",
      "mean      0.958052\n",
      "std       0.060842\n",
      "min       0.714286\n",
      "25%       0.951364\n",
      "50%       0.971388\n",
      "75%       0.994718\n",
      "max       1.000000\n",
      "dtype: float64\n",
      "count    18.000000\n",
      "mean      0.966206\n",
      "std       0.033090\n",
      "min       0.870130\n",
      "25%       0.956901\n",
      "50%       0.975368\n",
      "75%       0.986907\n",
      "max       1.000000\n",
      "dtype: float64\n"
     ]
    }
   ],
   "source": [
    "print pd.Series([v for k,v in result.items() if k < (2015,9)]).describe()\n",
    "print pd.Series([v for k,v in result.items() if k > (2015,12)]).describe()"
   ]
  },
  {
   "cell_type": "code",
   "execution_count": 52,
   "metadata": {
    "collapsed": false
   },
   "outputs": [
    {
     "data": {
      "text/plain": [
       "<matplotlib.axes._subplots.AxesSubplot at 0x10804908>"
      ]
     },
     "execution_count": 52,
     "metadata": {},
     "output_type": "execute_result"
    },
    {
     "data": {
      "image/png": "[encoded data removed]",
      "text/plain": [
       "<matplotlib.figure.Figure at 0x12b314e0>"
      ]
     },
     "metadata": {},
     "output_type": "display_data"
    }
   ],
   "source": [
    "\n",
    "result_a = {}\n",
    "for year in range(2013,2018):\n",
    "    for month in range(1,13):\n",
    "        subset = selected[selected.committed_datetime.map(lambda t: t.year * 1000 + t.month) == (year * 1000 + month)]\n",
    "        if year == 2017 and month > 6:\n",
    "            break\n",
    "        result_a[(year,month)] = subset.committer_name.value_counts(normalize=False)[:1].sum()\n",
    "plt.figure(facecolor=\"white\")\n",
    "s = pd.Series(result_a)\n",
    "s.plot('bar', figsize=(16,9), color='blue')"
   ]
  },
  {
   "cell_type": "code",
   "execution_count": 53,
   "metadata": {
    "collapsed": false
   },
   "outputs": [
    {
     "name": "stdout",
     "output_type": "stream",
     "text": [
      "count     32.000000\n",
      "mean      56.781250\n",
      "std       46.388774\n",
      "min        9.000000\n",
      "25%       26.250000\n",
      "50%       45.000000\n",
      "75%       64.500000\n",
      "max      184.000000\n",
      "dtype: float64\n",
      "count     18.000000\n",
      "mean     155.555556\n",
      "std       93.251855\n",
      "min       40.000000\n",
      "25%       63.250000\n",
      "50%      155.500000\n",
      "75%      224.250000\n",
      "max      326.000000\n",
      "dtype: float64\n"
     ]
    }
   ],
   "source": [
    "print pd.Series([v for k,v in result_a.items() if k < (2015,9)]).describe()\n",
    "print pd.Series([v for k,v in result_a.items() if k > (2015,12)]).describe()"
   ]
  },
  {
   "cell_type": "code",
   "execution_count": null,
   "metadata": {
    "collapsed": true
   },
   "outputs": [],
   "source": []
  },
  {
   "cell_type": "code",
   "execution_count": 54,
   "metadata": {
    "collapsed": false
   },
   "outputs": [],
   "source": [
    "\n",
    "result_a = {}\n",
    "for year in range(2013,2018):\n",
    "    for month in range(1,13):\n",
    "        subset = selected[selected.committed_datetime.map(lambda t: t.year * 1000 + t.month) == (year * 1000 + month)]\n",
    "        if year == 2017 and month > 6:\n",
    "            break\n",
    "        result_a[(year,month)] = subset.committer_name.value_counts(normalize=False)[:2].sum()"
   ]
  },
  {
   "cell_type": "code",
   "execution_count": 55,
   "metadata": {
    "collapsed": false
   },
   "outputs": [
    {
     "data": {
      "text/plain": [
       "<matplotlib.axes._subplots.AxesSubplot at 0x1a3245f8>"
      ]
     },
     "execution_count": 55,
     "metadata": {},
     "output_type": "execute_result"
    },
    {
     "data": {
      "image/png": "[encoded data removed]",
      "text/plain": [
       "<matplotlib.figure.Figure at 0x19fdfe80>"
      ]
     },
     "metadata": {},
     "output_type": "display_data"
    }
   ],
   "source": [
    "plt.figure(facecolor=\"white\")\n",
    "s = pd.Series(result_a)\n",
    "s.plot('bar', figsize=(16,9), color='blue')"
   ]
  },
  {
   "cell_type": "code",
   "execution_count": 56,
   "metadata": {
    "collapsed": false
   },
   "outputs": [
    {
     "name": "stdout",
     "output_type": "stream",
     "text": [
      "count    32.000000\n",
      "mean      0.958052\n",
      "std       0.060842\n",
      "min       0.714286\n",
      "25%       0.951364\n",
      "50%       0.971388\n",
      "75%       0.994718\n",
      "max       1.000000\n",
      "dtype: float64\n",
      "count    18.000000\n",
      "mean      0.966206\n",
      "std       0.033090\n",
      "min       0.870130\n",
      "25%       0.956901\n",
      "50%       0.975368\n",
      "75%       0.986907\n",
      "max       1.000000\n",
      "dtype: float64\n"
     ]
    }
   ],
   "source": [
    "print pd.Series([v for k,v in result.items() if k < (2015,9)]).describe()\n",
    "print pd.Series([v for k,v in result.items() if k > (2015,12)]).describe()"
   ]
  },
  {
   "cell_type": "code",
   "execution_count": 57,
   "metadata": {
    "collapsed": false
   },
   "outputs": [
    {
     "name": "stdout",
     "output_type": "stream",
     "text": [
      "count     32.000000\n",
      "mean      65.687500\n",
      "std       47.807705\n",
      "min       10.000000\n",
      "25%       31.000000\n",
      "50%       53.500000\n",
      "75%       75.500000\n",
      "max      186.000000\n",
      "dtype: float64\n",
      "count     18.000000\n",
      "mean     160.500000\n",
      "std       92.940367\n",
      "min       43.000000\n",
      "25%       75.250000\n",
      "50%      159.000000\n",
      "75%      229.500000\n",
      "max      330.000000\n",
      "dtype: float64\n"
     ]
    }
   ],
   "source": [
    "print pd.Series([v for k,v in result_a.items() if k < (2015,9)]).describe()\n",
    "print pd.Series([v for k,v in result_a.items() if k > (2015,12)]).describe()"
   ]
  },
  {
   "cell_type": "code",
   "execution_count": 18,
   "metadata": {
    "collapsed": true
   },
   "outputs": [],
   "source": [
    "# exclude 2015.9 ~ 2015.12"
   ]
  },
  {
   "cell_type": "code",
   "execution_count": 19,
   "metadata": {
    "collapsed": false
   },
   "outputs": [
    {
     "data": {
      "text/plain": [
       "<matplotlib.axes._subplots.AxesSubplot at 0x3c8cc5f8>"
      ]
     },
     "execution_count": 19,
     "metadata": {},
     "output_type": "execute_result"
    },
    {
     "data": {
      "image/png": "[encoded data removed]",
      "text/plain": [
       "<matplotlib.figure.Figure at 0xc9b4780>"
      ]
     },
     "metadata": {},
     "output_type": "display_data"
    }
   ],
   "source": [
    "selected[selected.committed_datetime.map(lambda t: t.year * 100 + t.month).map(lambda d: d >= 201300 and d < 201700)].committed_datetime.map(lambda t: t.year*100+t.month).value_counts().sort_index().plot('bar',figsize=(32,18), color='blue')"
   ]
  },
  {
   "cell_type": "code",
   "execution_count": 20,
   "metadata": {
    "collapsed": true
   },
   "outputs": [],
   "source": [
    "s = selected[selected.committed_datetime.map(lambda t: t.year * 100 + t.month).map(lambda d: d >= 201211 and d < 201707)].committed_datetime.map(lambda t: t.year*100+t.month).value_counts().sort_index()"
   ]
  },
  {
   "cell_type": "code",
   "execution_count": 21,
   "metadata": {
    "collapsed": false
   },
   "outputs": [
    {
     "data": {
      "text/plain": [
       "<matplotlib.axes._subplots.AxesSubplot at 0x3b3125f8>"
      ]
     },
     "execution_count": 21,
     "metadata": {},
     "output_type": "execute_result"
    },
    {
     "data": {
      "image/png": "[encoded data removed]",
      "text/plain": [
       "<matplotlib.figure.Figure at 0x12d48c50>"
      ]
     },
     "metadata": {},
     "output_type": "display_data"
    }
   ],
   "source": [
    "plt.figure(facecolor=\"white\")\n",
    "s = s.rolling(window=3, center=False).mean()\n",
    "s = s[(s.index > 201300) & (s.index < 201700)]\n",
    "s.plot('bar',figsize=(32,18), color='blue')"
   ]
  },
  {
   "cell_type": "code",
   "execution_count": null,
   "metadata": {
    "collapsed": true
   },
   "outputs": [],
   "source": []
  },
  {
   "cell_type": "code",
   "execution_count": null,
   "metadata": {
    "collapsed": true
   },
   "outputs": [],
   "source": []
  },
  {
   "cell_type": "code",
   "execution_count": 22,
   "metadata": {
    "collapsed": false
   },
   "outputs": [],
   "source": [
    "## overwork"
   ]
  },
  {
   "cell_type": "code",
   "execution_count": 23,
   "metadata": {
    "collapsed": true
   },
   "outputs": [],
   "source": [
    "result = {}\n",
    "for year in range(2013,2018):\n",
    "    for month in range(1,13):\n",
    "        subset = selected[selected.committed_datetime.map(lambda t: t.year * 1000 + t.month) == (year * 1000 + month)]\n",
    "        if year == 2017 and month > 6:\n",
    "            break\n",
    "        committers = subset.committer_name.value_counts(normalize=True)\n",
    "        acc = 0.0\n",
    "        for committer in committers.index:\n",
    "            df = subset[subset.committer_name == committer]\n",
    "            s = df.committed_datetime.map(lambda t: t.hour).value_counts(normalize=True)\n",
    "            if len(s) > 8:\n",
    "                acc += s[8:].sum() * committers[committer]\n",
    "        result[(year,month)] = acc"
   ]
  },
  {
   "cell_type": "code",
   "execution_count": 24,
   "metadata": {
    "collapsed": false
   },
   "outputs": [
    {
     "data": {
      "text/plain": [
       "<matplotlib.axes._subplots.AxesSubplot at 0xb6877b8>"
      ]
     },
     "execution_count": 24,
     "metadata": {},
     "output_type": "execute_result"
    },
    {
     "data": {
      "image/png": "[encoded data removed]",
      "text/plain": [
       "<matplotlib.figure.Figure at 0x20f95c88>"
      ]
     },
     "metadata": {},
     "output_type": "display_data"
    }
   ],
   "source": [
    "plt.figure(facecolor='white')\n",
    "pd.Series(result).plot('bar', color='blue', figsize=(16,9))"
   ]
  },
  {
   "cell_type": "code",
   "execution_count": 25,
   "metadata": {
    "collapsed": false
   },
   "outputs": [
    {
     "name": "stdout",
     "output_type": "stream",
     "text": [
      "count    32.000000\n",
      "mean      0.006529\n",
      "std       0.015722\n",
      "min       0.000000\n",
      "25%       0.000000\n",
      "50%       0.000000\n",
      "75%       0.002427\n",
      "max       0.076271\n",
      "dtype: float64\n",
      "count    18.000000\n",
      "mean      0.008682\n",
      "std       0.014144\n",
      "min       0.000000\n",
      "25%       0.000000\n",
      "50%       0.000000\n",
      "75%       0.011823\n",
      "max       0.053571\n",
      "dtype: float64\n"
     ]
    }
   ],
   "source": [
    "print pd.Series([v for k,v in result.items() if k < (2015,9)]).describe()\n",
    "print pd.Series([v for k,v in result.items() if k > (2015,12)]).describe()"
   ]
  },
  {
   "cell_type": "code",
   "execution_count": 26,
   "metadata": {
    "collapsed": false
   },
   "outputs": [],
   "source": [
    "## touched files"
   ]
  },
  {
   "cell_type": "code",
   "execution_count": 27,
   "metadata": {
    "collapsed": true
   },
   "outputs": [],
   "source": [
    "def count_distinct_files(files_list):\n",
    "    file_set = set()\n",
    "    for files in files_list:\n",
    "        if len(files) == 0:\n",
    "            continue\n",
    "        files = files.split(\",\")\n",
    "        if len(files) > 230:\n",
    "            continue\n",
    "        for f in files:\n",
    "            file_set.add(f)\n",
    "    return len(file_set)"
   ]
  },
  {
   "cell_type": "code",
   "execution_count": 28,
   "metadata": {
    "collapsed": false
   },
   "outputs": [],
   "source": [
    "result = {}\n",
    "for year in range(2013,2018):\n",
    "    for month in range(1,13):\n",
    "        subset = selected[selected.committed_datetime.map(lambda t: t.year * 1000 + t.month) == (year * 1000 + month)]\n",
    "        if year == 2017 and month > 6:\n",
    "            break\n",
    "        top2 = subset.committer_name.value_counts()[:2]\n",
    "        arr = []\n",
    "        for committer in top2.index:\n",
    "            arr.append(count_distinct_files(subset[subset.committer_name == committer]['files']))\n",
    "        result[(year,month)] = arr"
   ]
  },
  {
   "cell_type": "code",
   "execution_count": 29,
   "metadata": {
    "collapsed": false
   },
   "outputs": [
    {
     "data": {
      "text/plain": [
       "<matplotlib.axes._subplots.AxesSubplot at 0xeca61d0>"
      ]
     },
     "execution_count": 29,
     "metadata": {},
     "output_type": "execute_result"
    },
    {
     "data": {
      "image/png": "[encoded data removed]",
      "text/plain": [
       "<matplotlib.figure.Figure at 0xecb0cc0>"
      ]
     },
     "metadata": {},
     "output_type": "display_data"
    }
   ],
   "source": [
    "plt.figure(facecolor='white')\n",
    "pd.DataFrame(result).T[0].plot('bar', color='blue', figsize=(16,9))"
   ]
  },
  {
   "cell_type": "code",
   "execution_count": 30,
   "metadata": {
    "collapsed": false
   },
   "outputs": [
    {
     "name": "stdout",
     "output_type": "stream",
     "text": [
      "count     32.000000\n",
      "mean      50.875000\n",
      "std       40.483171\n",
      "min        9.000000\n",
      "25%       27.750000\n",
      "50%       47.000000\n",
      "75%       57.250000\n",
      "max      242.000000\n",
      "dtype: float64\n",
      "count     18.000000\n",
      "mean     117.722222\n",
      "std       62.794535\n",
      "min       37.000000\n",
      "25%       64.750000\n",
      "50%      110.500000\n",
      "75%      156.750000\n",
      "max      254.000000\n",
      "dtype: float64\n"
     ]
    }
   ],
   "source": [
    "print pd.Series([v[0] for k,v in result.items() if k < (2015,9)]).describe()\n",
    "print pd.Series([v[0] for k,v in result.items() if k > (2015,12)]).describe()"
   ]
  },
  {
   "cell_type": "code",
   "execution_count": 31,
   "metadata": {
    "collapsed": true
   },
   "outputs": [],
   "source": [
    "subset = selected[selected.committed_datetime.map(lambda t: t.year * 1000 + t.month) == (2016 * 1000 + 12)]"
   ]
  },
  {
   "cell_type": "code",
   "execution_count": 32,
   "metadata": {
    "collapsed": true
   },
   "outputs": [],
   "source": [
    "top2 = subset.committer_name.value_counts()[:2]"
   ]
  },
  {
   "cell_type": "code",
   "execution_count": 33,
   "metadata": {
    "collapsed": false
   },
   "outputs": [],
   "source": [
    "committer = top2.index[0]"
   ]
  },
  {
   "cell_type": "code",
   "execution_count": 34,
   "metadata": {
    "collapsed": false,
    "scrolled": true
   },
   "outputs": [
    {
     "data": {
      "text/plain": [
       "59935    1\n",
       "59936    1\n",
       "59937    1\n",
       "59938    1\n",
       "59939    1\n",
       "59940    1\n",
       "59941    1\n",
       "59942    1\n",
       "59943    1\n",
       "59944    1\n",
       "59945    2\n",
       "60061    2\n",
       "60468    2\n",
       "60469    1\n",
       "60470    1\n",
       "60471    1\n",
       "60472    1\n",
       "60473    1\n",
       "60474    1\n",
       "60475    1\n",
       "60476    1\n",
       "61902    1\n",
       "61922    2\n",
       "61923    1\n",
       "61924    1\n",
       "61925    1\n",
       "61926    3\n",
       "61927    2\n",
       "61928    2\n",
       "62143    3\n",
       "        ..\n",
       "62311    1\n",
       "62312    1\n",
       "62313    1\n",
       "62314    1\n",
       "62315    1\n",
       "62316    1\n",
       "62317    1\n",
       "62318    1\n",
       "62319    1\n",
       "62320    1\n",
       "62321    1\n",
       "62322    4\n",
       "62323    1\n",
       "62324    3\n",
       "62325    1\n",
       "62326    2\n",
       "62327    1\n",
       "62328    1\n",
       "62329    4\n",
       "62330    4\n",
       "62331    4\n",
       "62332    1\n",
       "62333    2\n",
       "62334    1\n",
       "62335    1\n",
       "62336    1\n",
       "62337    2\n",
       "62338    1\n",
       "62339    1\n",
       "62340    5\n",
       "Name: files, Length: 61, dtype: int64"
      ]
     },
     "execution_count": 34,
     "metadata": {},
     "output_type": "execute_result"
    }
   ],
   "source": [
    "subset[subset.committer_name == committer]['files'].map(lambda f: len(f.split(',')))"
   ]
  },
  {
   "cell_type": "code",
   "execution_count": null,
   "metadata": {
    "collapsed": true
   },
   "outputs": [],
   "source": []
  },
  {
   "cell_type": "code",
   "execution_count": null,
   "metadata": {
    "collapsed": true
   },
   "outputs": [],
   "source": []
  },
  {
   "cell_type": "code",
   "execution_count": null,
   "metadata": {
    "collapsed": true
   },
   "outputs": [],
   "source": []
  },
  {
   "cell_type": "code",
   "execution_count": 35,
   "metadata": {
    "collapsed": true
   },
   "outputs": [],
   "source": [
    "## authors"
   ]
  },
  {
   "cell_type": "code",
   "execution_count": 36,
   "metadata": {
    "collapsed": true
   },
   "outputs": [],
   "source": [
    "result = {}\n",
    "for year in range(2013,2018):\n",
    "    for month in range(1,13):\n",
    "        subset = selected[selected.committed_datetime.map(lambda t: t.year * 1000 + t.month) == (year * 1000 + month)]\n",
    "        if year == 2017 and month > 6:\n",
    "            break\n",
    "        top2 = subset.committer_name.value_counts()[:2]\n",
    "        arr = []\n",
    "        for committer in top2.index:\n",
    "            arr.append(len(set(subset[subset.committer_name == committer]['author_name'])))\n",
    "        result[(year,month)] = arr"
   ]
  },
  {
   "cell_type": "code",
   "execution_count": 37,
   "metadata": {
    "collapsed": false
   },
   "outputs": [
    {
     "data": {
      "text/plain": [
       "<matplotlib.axes._subplots.AxesSubplot at 0x13248128>"
      ]
     },
     "execution_count": 37,
     "metadata": {},
     "output_type": "execute_result"
    },
    {
     "data": {
      "image/png": "[encoded data removed]",
      "text/plain": [
       "<matplotlib.figure.Figure at 0xee61668>"
      ]
     },
     "metadata": {},
     "output_type": "display_data"
    }
   ],
   "source": [
    "plt.figure(facecolor='white')\n",
    "pd.DataFrame(result).T[0].plot('bar', color='blue', figsize=(16,9))"
   ]
  },
  {
   "cell_type": "code",
   "execution_count": 38,
   "metadata": {
    "collapsed": false
   },
   "outputs": [
    {
     "name": "stdout",
     "output_type": "stream",
     "text": [
      "count    32.000000\n",
      "mean      7.062500\n",
      "std       3.876626\n",
      "min       2.000000\n",
      "25%       5.000000\n",
      "50%       6.000000\n",
      "75%       8.000000\n",
      "max      17.000000\n",
      "dtype: float64\n",
      "count    18.000000\n",
      "mean     22.166667\n",
      "std       7.860923\n",
      "min      10.000000\n",
      "25%      16.500000\n",
      "50%      21.500000\n",
      "75%      24.750000\n",
      "max      38.000000\n",
      "dtype: float64\n"
     ]
    }
   ],
   "source": [
    "print pd.Series([v[0] for k,v in result.items() if k < (2015,9)]).describe()\n",
    "print pd.Series([v[0] for k,v in result.items() if k > (2015,12)]).describe()"
   ]
  },
  {
   "cell_type": "code",
   "execution_count": 39,
   "metadata": {
    "collapsed": true
   },
   "outputs": [],
   "source": [
    "# tag"
   ]
  },
  {
   "cell_type": "code",
   "execution_count": 40,
   "metadata": {
    "collapsed": true
   },
   "outputs": [],
   "source": [
    "result = {}\n",
    "for year in range(2013,2018):\n",
    "    for month in range(1,13):\n",
    "        if year == 2017 and month > 6:\n",
    "            break\n",
    "        subset = selected[selected.committed_datetime.map(lambda t: t.year * 1000 + t.month) == (year * 1000 + month)]\n",
    "        desc = subset.message.map(lambda m:  \"Acked-by\" in m or \"Reviewed-by\" in m or \"Tested-by\" in m ).value_counts(normalize=True)[True]\n",
    "        result[(year,month)] = desc"
   ]
  },
  {
   "cell_type": "code",
   "execution_count": 41,
   "metadata": {
    "collapsed": false
   },
   "outputs": [
    {
     "data": {
      "text/plain": [
       "<matplotlib.axes._subplots.AxesSubplot at 0xdaf5e80>"
      ]
     },
     "execution_count": 41,
     "metadata": {},
     "output_type": "execute_result"
    },
    {
     "data": {
      "image/png": "[encoded data removed]",
      "text/plain": [
       "<matplotlib.figure.Figure at 0xdb01be0>"
      ]
     },
     "metadata": {},
     "output_type": "display_data"
    }
   ],
   "source": [
    "plt.figure(facecolor='white')\n",
    "pd.Series(result).plot('bar', figsize=(16,9), color='blue')"
   ]
  },
  {
   "cell_type": "code",
   "execution_count": 42,
   "metadata": {
    "collapsed": false
   },
   "outputs": [
    {
     "name": "stdout",
     "output_type": "stream",
     "text": [
      "count    32.000000\n",
      "mean      0.335794\n",
      "std       0.207706\n",
      "min       0.048387\n",
      "25%       0.214811\n",
      "50%       0.312500\n",
      "75%       0.395604\n",
      "max       0.936170\n",
      "dtype: float64\n",
      "count    18.000000\n",
      "mean      0.871383\n",
      "std       0.079783\n",
      "min       0.622222\n",
      "25%       0.866097\n",
      "50%       0.893797\n",
      "75%       0.918631\n",
      "max       0.952096\n",
      "dtype: float64\n"
     ]
    }
   ],
   "source": [
    "print pd.Series([v for k,v in result.items() if k < (2015,9)]).describe()\n",
    "print pd.Series([v for k,v in result.items() if k > (2015,12)]).describe()"
   ]
  },
  {
   "cell_type": "code",
   "execution_count": 43,
   "metadata": {
    "collapsed": true
   },
   "outputs": [],
   "source": [
    "# delay"
   ]
  },
  {
   "cell_type": "code",
   "execution_count": 44,
   "metadata": {
    "collapsed": true
   },
   "outputs": [],
   "source": [
    "result = {}\n",
    "for year in range(2013,2018):\n",
    "    for month in range(1,13):\n",
    "        if year == 2017 and month > 6:\n",
    "            break\n",
    "        subset = selected[selected.committed_datetime.map(lambda t: t.year * 1000 + t.month) == (year * 1000 + month)]\n",
    "        desc = (subset.committed_datetime - subset.authored_datetime).median()\n",
    "        result[(year,month)] = desc"
   ]
  },
  {
   "cell_type": "code",
   "execution_count": 45,
   "metadata": {
    "collapsed": false
   },
   "outputs": [
    {
     "data": {
      "text/plain": [
       "<matplotlib.axes._subplots.AxesSubplot at 0xdb0b390>"
      ]
     },
     "execution_count": 45,
     "metadata": {},
     "output_type": "execute_result"
    },
    {
     "data": {
      "image/png": "[encoded data removed]",
      "text/plain": [
       "<matplotlib.figure.Figure at 0xf511128>"
      ]
     },
     "metadata": {},
     "output_type": "display_data"
    }
   ],
   "source": [
    "plt.figure(facecolor=\"white\")\n",
    "pd.Series(result).map(lambda t: t.total_seconds()*1.0 / 86400).plot('bar', color='blue', figsize=(16,9))"
   ]
  },
  {
   "cell_type": "code",
   "execution_count": 46,
   "metadata": {
    "collapsed": true
   },
   "outputs": [],
   "source": [
    "before = selected[selected.committed_datetime.map(lambda t: t.year * 100 + t.month).map(lambda d: d >= 201300 and d < 201509)]\n",
    "after = selected[selected.committed_datetime.map(lambda t: t.year * 100 + t.month).map(lambda d: d >= 201600 and d < 201707)]"
   ]
  },
  {
   "cell_type": "code",
   "execution_count": 47,
   "metadata": {
    "collapsed": false
   },
   "outputs": [
    {
     "data": {
      "text/plain": [
       "count                       2168\n",
       "mean     31 days 04:34:14.055811\n",
       "std      65 days 10:10:28.765095\n",
       "min            -1 days +11:37:06\n",
       "25%       1 days 16:22:59.500000\n",
       "50%       6 days 18:52:12.500000\n",
       "75%      23 days 18:07:20.250000\n",
       "max            636 days 18:52:32\n",
       "Name: committed_datetime, dtype: object"
      ]
     },
     "execution_count": 47,
     "metadata": {},
     "output_type": "execute_result"
    }
   ],
   "source": [
    "(before.committed_datetime - before.authored_datetime).describe()"
   ]
  },
  {
   "cell_type": "code",
   "execution_count": 48,
   "metadata": {
    "collapsed": false
   },
   "outputs": [
    {
     "data": {
      "text/plain": [
       "count                       2957\n",
       "mean     24 days 15:49:32.842407\n",
       "std      41 days 01:55:06.981512\n",
       "min            -1 days +16:36:18\n",
       "25%              3 days 00:43:48\n",
       "50%             10 days 05:49:17\n",
       "75%             27 days 06:13:05\n",
       "max            386 days 02:26:00\n",
       "Name: committed_datetime, dtype: object"
      ]
     },
     "execution_count": 48,
     "metadata": {},
     "output_type": "execute_result"
    }
   ],
   "source": [
    "(after.committed_datetime - after.authored_datetime).describe()"
   ]
  },
  {
   "cell_type": "code",
   "execution_count": null,
   "metadata": {
    "collapsed": true
   },
   "outputs": [],
   "source": []
  }
 ],
 "metadata": {
  "kernelspec": {
   "display_name": "Python [Root]",
   "language": "python",
   "name": "Python [Root]"
  },
  "language_info": {
   "codemirror_mode": {
    "name": "ipython",
    "version": 2
   },
   "file_extension": ".py",
   "mimetype": "text/x-python",
   "name": "python",
   "nbconvert_exporter": "python",
   "pygments_lexer": "ipython2",
   "version": "2.7.11"
  }
 },
 "nbformat": 4,
 "nbformat_minor": 0
}
