{
 "cells": [
  {
   "cell_type": "code",
   "execution_count": 2,
   "metadata": {
    "collapsed": true
   },
   "outputs": [],
   "source": [
    "import pandas as pd\n",
    "import matplotlib.pyplot as plt\n",
    "%matplotlib inline"
   ]
  },
  {
   "cell_type": "code",
   "execution_count": 3,
   "metadata": {
    "collapsed": true
   },
   "outputs": [],
   "source": [
    "commits = pd.read_pickle(\"commits.pkl\")"
   ]
  },
  {
   "cell_type": "code",
   "execution_count": 24,
   "metadata": {
    "collapsed": false
   },
   "outputs": [
    {
     "data": {
      "text/plain": [
       "(708106, 10)"
      ]
     },
     "execution_count": 24,
     "metadata": {},
     "output_type": "execute_result"
    }
   ],
   "source": [
    "commits.shape"
   ]
  },
  {
   "cell_type": "code",
   "execution_count": 4,
   "metadata": {
    "collapsed": true
   },
   "outputs": [],
   "source": [
    "subset = commits[commits.committed_datetime.map(lambda t: t.year) == 2016]"
   ]
  },
  {
   "cell_type": "code",
   "execution_count": 7,
   "metadata": {
    "collapsed": false
   },
   "outputs": [
    {
     "data": {
      "text/plain": [
       "Index([u'Linus Torvalds', u'Arnd Bergmann', u'David S. Miller',\n",
       "       u'Mauro Carvalho Chehab', u'Chris Wilson', u'Linus Walleij',\n",
       "       u'Geert Uytterhoeven', u'Ville Syrjälä', u'Al Viro', u'Daniel Vetter',\n",
       "       u'Wei Yongjun', u'Christoph Hellwig', u'Dave Airlie', u'Wolfram Sang',\n",
       "       u'Javier Martinez Canillas', u'Mark Brown', u'Alex Deucher',\n",
       "       u'Arnaldo Carvalho de Melo', u'Dan Carpenter', u'Rafael J. Wysocki',\n",
       "       u'Kuninori Morimoto', u'Johan Hovold', u'Christian König',\n",
       "       u'Masahiro Yamada', u'Colin Ian King', u'Laurent Pinchart',\n",
       "       u'Stephen Boyd', u'Bjorn Helgaas', u'Eric Dumazet', u'Jiri Olsa',\n",
       "       u'Thomas Gleixner', u'Ben Skeggs', u'Trond Myklebust',\n",
       "       u'Paul Gortmaker', u'Jes Sorensen', u'Olof Johansson', u'Ingo Molnar',\n",
       "       u'David Howells', u'H Hartley Sweeten', u'Takashi Iwai',\n",
       "       u'Viresh Kumar', u'Vinod Koul', u'Greg Kroah-Hartman', u'Chaehyun Lim',\n",
       "       u'Hans Verkuil', u'Krzysztof Kozlowski', u'Markus Elfring',\n",
       "       u'Dan Williams', u'Boris Brezillon', u'Jani Nikula', u'Andy Shevchenko',\n",
       "       u'Andy Lutomirski', u'Peter Zijlstra', u'Rex Zhu', u'Ard Biesheuvel',\n",
       "       u'Oleg Drokin', u'Florian Fainelli', u'James Hogan', u'Marc Zyngier',\n",
       "       u'Laxman Dewangan'],\n",
       "      dtype='object')"
      ]
     },
     "execution_count": 7,
     "metadata": {},
     "output_type": "execute_result"
    }
   ],
   "source": [
    "subset.author_name.value_counts()[:60].index"
   ]
  },
  {
   "cell_type": "code",
   "execution_count": null,
   "metadata": {
    "collapsed": true
   },
   "outputs": [],
   "source": []
  },
  {
   "cell_type": "code",
   "execution_count": 70,
   "metadata": {
    "collapsed": false,
    "scrolled": true
   },
   "outputs": [
    {
     "data": {
      "text/plain": [
       "count     58.000000\n",
       "mean      12.534483\n",
       "std       22.484471\n",
       "min        1.000000\n",
       "25%        1.250000\n",
       "50%        3.500000\n",
       "75%       11.000000\n",
       "max      124.000000\n",
       "Name: committed_datetime, dtype: float64"
      ]
     },
     "execution_count": 70,
     "metadata": {},
     "output_type": "execute_result"
    }
   ],
   "source": [
    "selected = subset[subset.author_name == 'Mauro Carvalho Chehab']\n",
    "s = selected.committed_datetime.map(lambda t: t.dayofyear).value_counts().sort_index()\n",
    "i = (s.index).to_series()\n",
    "s[(i+1).shift(1) != i].describe()"
   ]
  },
  {
   "cell_type": "code",
   "execution_count": 71,
   "metadata": {
    "collapsed": false
   },
   "outputs": [
    {
     "data": {
      "text/plain": [
       "count    32.000000\n",
       "mean     11.500000\n",
       "std      13.433228\n",
       "min       1.000000\n",
       "25%       2.000000\n",
       "50%       6.000000\n",
       "75%      17.250000\n",
       "max      46.000000\n",
       "Name: committed_datetime, dtype: float64"
      ]
     },
     "execution_count": 71,
     "metadata": {},
     "output_type": "execute_result"
    }
   ],
   "source": [
    "s[(i+1).shift(1) == i].describe()"
   ]
  },
  {
   "cell_type": "code",
   "execution_count": 73,
   "metadata": {
    "collapsed": false
   },
   "outputs": [
    {
     "data": {
      "text/plain": [
       "11     124\n",
       "25       4\n",
       "26       2\n",
       "32      18\n",
       "35      11\n",
       "40       1\n",
       "41      10\n",
       "47      20\n",
       "50       2\n",
       "54      15\n",
       "61       7\n",
       "63       7\n",
       "70       4\n",
       "75       1\n",
       "91       5\n",
       "97       3\n",
       "104      4\n",
       "111      3\n",
       "116      2\n",
       "117      1\n",
       "123      1\n",
       "126      1\n",
       "127      1\n",
       "128      1\n",
       "130      3\n",
       "132      1\n",
       "139      1\n",
       "151      1\n",
       "159      4\n",
       "166      1\n",
       "      ... \n",
       "236     11\n",
       "237      5\n",
       "245      2\n",
       "249     12\n",
       "253     64\n",
       "263      5\n",
       "265     38\n",
       "266      3\n",
       "279      1\n",
       "288     31\n",
       "291      3\n",
       "295     83\n",
       "298     44\n",
       "304      1\n",
       "306      1\n",
       "312      4\n",
       "318      3\n",
       "319      1\n",
       "321      9\n",
       "322      2\n",
       "323     38\n",
       "324      3\n",
       "327      5\n",
       "330      3\n",
       "336     11\n",
       "340      5\n",
       "341      1\n",
       "347      3\n",
       "350     20\n",
       "361      2\n",
       "Name: committed_datetime, Length: 90, dtype: int64"
      ]
     },
     "execution_count": 73,
     "metadata": {},
     "output_type": "execute_result"
    }
   ],
   "source": [
    "s"
   ]
  },
  {
   "cell_type": "code",
   "execution_count": null,
   "metadata": {
    "collapsed": true
   },
   "outputs": [],
   "source": []
  }
 ],
 "metadata": {
  "kernelspec": {
   "display_name": "Python [Root]",
   "language": "python",
   "name": "Python [Root]"
  },
  "language_info": {
   "codemirror_mode": {
    "name": "ipython",
    "version": 2
   },
   "file_extension": ".py",
   "mimetype": "text/x-python",
   "name": "python",
   "nbconvert_exporter": "python",
   "pygments_lexer": "ipython2",
   "version": "2.7.11"
  }
 },
 "nbformat": 4,
 "nbformat_minor": 0
}
