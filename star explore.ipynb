{
 "cells": [
  {
   "cell_type": "code",
   "execution_count": 1,
   "metadata": {
    "collapsed": true
   },
   "outputs": [],
   "source": [
    "import pandas as pd"
   ]
  },
  {
   "cell_type": "code",
   "execution_count": 2,
   "metadata": {
    "collapsed": true
   },
   "outputs": [],
   "source": [
    "df = pd.read_pickle(\"commits.pkl\")"
   ]
  },
  {
   "cell_type": "code",
   "execution_count": 18,
   "metadata": {
    "collapsed": false
   },
   "outputs": [
    {
     "name": "stdout",
     "output_type": "stream",
     "text": [
      "2013     5\n",
      "2014    35\n",
      "2015    23\n",
      "2016     7\n",
      "2017    51\n",
      "Name: authored_datetime, dtype: int64\n",
      "2014     56\n",
      "2015     98\n",
      "2016    239\n",
      "2017    200\n",
      "Name: committed_datetime, dtype: int64\n"
     ]
    }
   ],
   "source": [
    "name = \"Anna Schumaker\"\n",
    "print df[df.author_name == name].authored_datetime.map(lambda t: t.year).value_counts().sort_index()\n",
    "print df[df.committer_name == name].committed_datetime.map(lambda t: t.year).value_counts().sort_index()"
   ]
  },
  {
   "cell_type": "code",
   "execution_count": 19,
   "metadata": {
    "collapsed": false
   },
   "outputs": [
    {
     "name": "stdout",
     "output_type": "stream",
     "text": [
      "2005      8\n",
      "2006      3\n",
      "2007      5\n",
      "2009      2\n",
      "2010      4\n",
      "2013      2\n",
      "2014      2\n",
      "2015     49\n",
      "2016    139\n",
      "2017    154\n",
      "Name: authored_datetime, dtype: int64\n",
      "Series([], Name: committed_datetime, dtype: int64)\n"
     ]
    }
   ],
   "source": [
    "name = \"James Simmons\"\n",
    "print df[df.author_name == name].authored_datetime.map(lambda t: t.year).value_counts().sort_index()\n",
    "print df[df.committer_name == name].committed_datetime.map(lambda t: t.year).value_counts().sort_index()"
   ]
  },
  {
   "cell_type": "code",
   "execution_count": 20,
   "metadata": {
    "collapsed": false
   },
   "outputs": [
    {
     "name": "stdout",
     "output_type": "stream",
     "text": [
      "2009      1\n",
      "2010      6\n",
      "2011     59\n",
      "2012     68\n",
      "2013    161\n",
      "2014    148\n",
      "2015    331\n",
      "2016    314\n",
      "2017     77\n",
      "Name: authored_datetime, dtype: int64\n",
      "2013     10\n",
      "2014     17\n",
      "2015    438\n",
      "2016    580\n",
      "2017    268\n",
      "Name: committed_datetime, dtype: int64\n"
     ]
    }
   ],
   "source": [
    "name = \"Stephen Boyd\"\n",
    "print df[df.author_name == name].authored_datetime.map(lambda t: t.year).value_counts().sort_index()\n",
    "print df[df.committer_name == name].committed_datetime.map(lambda t: t.year).value_counts().sort_index()"
   ]
  },
  {
   "cell_type": "code",
   "execution_count": 21,
   "metadata": {
    "collapsed": false
   },
   "outputs": [
    {
     "name": "stdout",
     "output_type": "stream",
     "text": [
      "2005      1\n",
      "2008      7\n",
      "2009     95\n",
      "2010     53\n",
      "2011    129\n",
      "2012     54\n",
      "2013     54\n",
      "2014     62\n",
      "2015     97\n",
      "2016     57\n",
      "2017     48\n",
      "Name: authored_datetime, dtype: int64\n",
      "2011     325\n",
      "2012     232\n",
      "2013     245\n",
      "2014     392\n",
      "2015    1449\n",
      "2016    1397\n",
      "2017     953\n",
      "Name: committed_datetime, dtype: int64\n"
     ]
    }
   ],
   "source": [
    "name = \"Kalle Valo\"\n",
    "print df[df.author_name == name].authored_datetime.map(lambda t: t.year).value_counts().sort_index()\n",
    "print df[df.committer_name == name].committed_datetime.map(lambda t: t.year).value_counts().sort_index()"
   ]
  },
  {
   "cell_type": "code",
   "execution_count": 22,
   "metadata": {
    "collapsed": false
   },
   "outputs": [
    {
     "name": "stdout",
     "output_type": "stream",
     "text": [
      "2008      6\n",
      "2009     34\n",
      "2010    118\n",
      "2011    404\n",
      "2012    100\n",
      "2013    127\n",
      "2014     17\n",
      "2015     12\n",
      "2016     34\n",
      "2017     21\n",
      "Name: authored_datetime, dtype: int64\n",
      "2012    291\n",
      "2013    775\n",
      "2014    454\n",
      "2015    719\n",
      "2016    788\n",
      "2017    583\n",
      "Name: committed_datetime, dtype: int64\n"
     ]
    }
   ],
   "source": [
    "name = \"Jonathan Cameron\"\n",
    "print df[df.author_name == name].authored_datetime.map(lambda t: t.year).value_counts().sort_index()\n",
    "print df[df.committer_name == name].committed_datetime.map(lambda t: t.year).value_counts().sort_index()"
   ]
  },
  {
   "cell_type": "code",
   "execution_count": 23,
   "metadata": {
    "collapsed": false
   },
   "outputs": [
    {
     "name": "stdout",
     "output_type": "stream",
     "text": [
      "2006    12\n",
      "2007    15\n",
      "2008    87\n",
      "2009    24\n",
      "2010    33\n",
      "2011    28\n",
      "2012     9\n",
      "2013     1\n",
      "2014    10\n",
      "2015    21\n",
      "2016    71\n",
      "2017    39\n",
      "Name: authored_datetime, dtype: int64\n",
      "2008    169\n",
      "2009     16\n",
      "2010     36\n",
      "2011      2\n",
      "2014     44\n",
      "2015    196\n",
      "2016    371\n",
      "2017    317\n",
      "Name: committed_datetime, dtype: int64\n"
     ]
    }
   ],
   "source": [
    "name = \"Jonathan Corbet\"\n",
    "print df[df.author_name == name].authored_datetime.map(lambda t: t.year).value_counts().sort_index()\n",
    "print df[df.committer_name == name].committed_datetime.map(lambda t: t.year).value_counts().sort_index()"
   ]
  },
  {
   "cell_type": "markdown",
   "metadata": {},
   "source": [
    "# fade away .."
   ]
  },
  {
   "cell_type": "code",
   "execution_count": 25,
   "metadata": {
    "collapsed": false
   },
   "outputs": [
    {
     "name": "stdout",
     "output_type": "stream",
     "text": [
      "2005     3\n",
      "2006     5\n",
      "2007     5\n",
      "2008    29\n",
      "2009    49\n",
      "2010    74\n",
      "2011    46\n",
      "2012    54\n",
      "2013    21\n",
      "2014     5\n",
      "2015     5\n",
      "2017     2\n",
      "Name: authored_datetime, dtype: int64\n",
      "2010    220\n",
      "2011    285\n",
      "2012    169\n",
      "2013    122\n",
      "2014    105\n",
      "Name: committed_datetime, dtype: int64\n"
     ]
    }
   ],
   "source": [
    "name = \"Matthew Garrett\"\n",
    "print df[df.author_name == name].authored_datetime.map(lambda t: t.year).value_counts().sort_index()\n",
    "print df[df.committer_name == name].committed_datetime.map(lambda t: t.year).value_counts().sort_index()"
   ]
  },
  {
   "cell_type": "code",
   "execution_count": 26,
   "metadata": {
    "collapsed": false
   },
   "outputs": [
    {
     "name": "stdout",
     "output_type": "stream",
     "text": [
      "2005     10\n",
      "2006    206\n",
      "2007    501\n",
      "2008    356\n",
      "2009    570\n",
      "2010    488\n",
      "2011    182\n",
      "2012    229\n",
      "2013      3\n",
      "Name: authored_datetime, dtype: int64\n",
      "2006     216\n",
      "2007     500\n",
      "2008     834\n",
      "2009    1092\n",
      "2010     991\n",
      "2011     668\n",
      "2012     335\n",
      "2013       6\n",
      "Name: committed_datetime, dtype: int64\n"
     ]
    }
   ],
   "source": [
    "name = \"Paul Mundt\"\n",
    "print df[df.author_name == name].authored_datetime.map(lambda t: t.year).value_counts().sort_index()\n",
    "print df[df.committer_name == name].committed_datetime.map(lambda t: t.year).value_counts().sort_index()"
   ]
  },
  {
   "cell_type": "code",
   "execution_count": 27,
   "metadata": {
    "collapsed": false
   },
   "outputs": [
    {
     "name": "stdout",
     "output_type": "stream",
     "text": [
      "2006     21\n",
      "2007    317\n",
      "2008    150\n",
      "2009    124\n",
      "2010    266\n",
      "2011    110\n",
      "2012     95\n",
      "2013     24\n",
      "2014      3\n",
      "Name: authored_datetime, dtype: int64\n",
      "2007    317\n",
      "2008    864\n",
      "2009    590\n",
      "2010    827\n",
      "2011    604\n",
      "2012    401\n",
      "Name: committed_datetime, dtype: int64\n"
     ]
    }
   ],
   "source": [
    "name = \"Avi Kivity\"\n",
    "print df[df.author_name == name].authored_datetime.map(lambda t: t.year).value_counts().sort_index()\n",
    "print df[df.committer_name == name].committed_datetime.map(lambda t: t.year).value_counts().sort_index()"
   ]
  },
  {
   "cell_type": "code",
   "execution_count": 28,
   "metadata": {
    "collapsed": false
   },
   "outputs": [
    {
     "name": "stdout",
     "output_type": "stream",
     "text": [
      "2005    386\n",
      "2006    513\n",
      "2007    288\n",
      "2008     59\n",
      "2009     15\n",
      "2010     14\n",
      "2011      5\n",
      "2012     10\n",
      "2013      1\n",
      "2016      1\n",
      "Name: authored_datetime, dtype: int64\n",
      "2005    1378\n",
      "2006    1800\n",
      "2007    2040\n",
      "2008    1741\n",
      "2009     310\n",
      "2010     205\n",
      "2011     150\n",
      "2012     145\n",
      "2013      51\n",
      "Name: committed_datetime, dtype: int64\n"
     ]
    }
   ],
   "source": [
    "name = \"Jeff Garzik\"\n",
    "print df[df.author_name == name].authored_datetime.map(lambda t: t.year).value_counts().sort_index()\n",
    "print df[df.committer_name == name].committed_datetime.map(lambda t: t.year).value_counts().sort_index()"
   ]
  },
  {
   "cell_type": "code",
   "execution_count": 29,
   "metadata": {
    "collapsed": false
   },
   "outputs": [
    {
     "name": "stdout",
     "output_type": "stream",
     "text": [
      "2008     11\n",
      "2009     35\n",
      "2010    120\n",
      "2011    178\n",
      "2012      6\n",
      "Name: authored_datetime, dtype: int64\n",
      "2010     70\n",
      "2011    636\n",
      "2012     25\n",
      "Name: committed_datetime, dtype: int64\n"
     ]
    }
   ],
   "source": [
    "name = \"Gustavo F. Padovan\"\n",
    "print df[df.author_name == name].authored_datetime.map(lambda t: t.year).value_counts().sort_index()\n",
    "print df[df.committer_name == name].committed_datetime.map(lambda t: t.year).value_counts().sort_index()"
   ]
  },
  {
   "cell_type": "code",
   "execution_count": null,
   "metadata": {
    "collapsed": true
   },
   "outputs": [],
   "source": []
  }
 ],
 "metadata": {
  "kernelspec": {
   "display_name": "Python [Root]",
   "language": "python",
   "name": "Python [Root]"
  },
  "language_info": {
   "codemirror_mode": {
    "name": "ipython",
    "version": 2
   },
   "file_extension": ".py",
   "mimetype": "text/x-python",
   "name": "python",
   "nbconvert_exporter": "python",
   "pygments_lexer": "ipython2",
   "version": "2.7.11"
  }
 },
 "nbformat": 4,
 "nbformat_minor": 0
}
